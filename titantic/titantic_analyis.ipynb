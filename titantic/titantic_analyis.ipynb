{
 "cells": [
  {
   "cell_type": "code",
   "execution_count": 1,
   "metadata": {
    "collapsed": false
   },
   "outputs": [
    {
     "name": "stdout",
     "output_type": "stream",
     "text": [
      "/mldb_data/titantic\n"
     ]
    }
   ],
   "source": [
    "import os\n",
    "working_dir = os.getcwd()\n",
    "print working_dir\n",
    "os.chdir('..')\n",
    "from ml_helpers import *\n",
    "os.chdir(working_dir)"
   ]
  },
  {
   "cell_type": "code",
   "execution_count": 2,
   "metadata": {
    "collapsed": false
   },
   "outputs": [
    {
     "data": {
      "text/html": [
       "<div>\n",
       "<table border=\"1\" class=\"dataframe\">\n",
       "  <thead>\n",
       "    <tr style=\"text-align: right;\">\n",
       "      <th></th>\n",
       "      <th>PassengerId</th>\n",
       "      <th>Survived</th>\n",
       "      <th>Pclass</th>\n",
       "      <th>Name</th>\n",
       "      <th>Sex</th>\n",
       "      <th>Age</th>\n",
       "      <th>SibSp</th>\n",
       "      <th>Parch</th>\n",
       "      <th>Ticket</th>\n",
       "      <th>Fare</th>\n",
       "      <th>Cabin</th>\n",
       "      <th>Embarked</th>\n",
       "    </tr>\n",
       "  </thead>\n",
       "  <tbody>\n",
       "    <tr>\n",
       "      <th>0</th>\n",
       "      <td>1</td>\n",
       "      <td>0</td>\n",
       "      <td>3</td>\n",
       "      <td>Braund, Mr. Owen Harris</td>\n",
       "      <td>male</td>\n",
       "      <td>22</td>\n",
       "      <td>1</td>\n",
       "      <td>0</td>\n",
       "      <td>A/5 21171</td>\n",
       "      <td>7.2500</td>\n",
       "      <td>NaN</td>\n",
       "      <td>S</td>\n",
       "    </tr>\n",
       "    <tr>\n",
       "      <th>1</th>\n",
       "      <td>2</td>\n",
       "      <td>1</td>\n",
       "      <td>1</td>\n",
       "      <td>Cumings, Mrs. John Bradley (Florence Briggs Th...</td>\n",
       "      <td>female</td>\n",
       "      <td>38</td>\n",
       "      <td>1</td>\n",
       "      <td>0</td>\n",
       "      <td>PC 17599</td>\n",
       "      <td>71.2833</td>\n",
       "      <td>C85</td>\n",
       "      <td>C</td>\n",
       "    </tr>\n",
       "    <tr>\n",
       "      <th>2</th>\n",
       "      <td>3</td>\n",
       "      <td>1</td>\n",
       "      <td>3</td>\n",
       "      <td>Heikkinen, Miss. Laina</td>\n",
       "      <td>female</td>\n",
       "      <td>26</td>\n",
       "      <td>0</td>\n",
       "      <td>0</td>\n",
       "      <td>STON/O2. 3101282</td>\n",
       "      <td>7.9250</td>\n",
       "      <td>NaN</td>\n",
       "      <td>S</td>\n",
       "    </tr>\n",
       "    <tr>\n",
       "      <th>3</th>\n",
       "      <td>4</td>\n",
       "      <td>1</td>\n",
       "      <td>1</td>\n",
       "      <td>Futrelle, Mrs. Jacques Heath (Lily May Peel)</td>\n",
       "      <td>female</td>\n",
       "      <td>35</td>\n",
       "      <td>1</td>\n",
       "      <td>0</td>\n",
       "      <td>113803</td>\n",
       "      <td>53.1000</td>\n",
       "      <td>C123</td>\n",
       "      <td>S</td>\n",
       "    </tr>\n",
       "    <tr>\n",
       "      <th>4</th>\n",
       "      <td>5</td>\n",
       "      <td>0</td>\n",
       "      <td>3</td>\n",
       "      <td>Allen, Mr. William Henry</td>\n",
       "      <td>male</td>\n",
       "      <td>35</td>\n",
       "      <td>0</td>\n",
       "      <td>0</td>\n",
       "      <td>373450</td>\n",
       "      <td>8.0500</td>\n",
       "      <td>NaN</td>\n",
       "      <td>S</td>\n",
       "    </tr>\n",
       "    <tr>\n",
       "      <th>5</th>\n",
       "      <td>6</td>\n",
       "      <td>0</td>\n",
       "      <td>3</td>\n",
       "      <td>Moran, Mr. James</td>\n",
       "      <td>male</td>\n",
       "      <td>NaN</td>\n",
       "      <td>0</td>\n",
       "      <td>0</td>\n",
       "      <td>330877</td>\n",
       "      <td>8.4583</td>\n",
       "      <td>NaN</td>\n",
       "      <td>Q</td>\n",
       "    </tr>\n",
       "    <tr>\n",
       "      <th>6</th>\n",
       "      <td>7</td>\n",
       "      <td>0</td>\n",
       "      <td>1</td>\n",
       "      <td>McCarthy, Mr. Timothy J</td>\n",
       "      <td>male</td>\n",
       "      <td>54</td>\n",
       "      <td>0</td>\n",
       "      <td>0</td>\n",
       "      <td>17463</td>\n",
       "      <td>51.8625</td>\n",
       "      <td>E46</td>\n",
       "      <td>S</td>\n",
       "    </tr>\n",
       "    <tr>\n",
       "      <th>7</th>\n",
       "      <td>8</td>\n",
       "      <td>0</td>\n",
       "      <td>3</td>\n",
       "      <td>Palsson, Master. Gosta Leonard</td>\n",
       "      <td>male</td>\n",
       "      <td>2</td>\n",
       "      <td>3</td>\n",
       "      <td>1</td>\n",
       "      <td>349909</td>\n",
       "      <td>21.0750</td>\n",
       "      <td>NaN</td>\n",
       "      <td>S</td>\n",
       "    </tr>\n",
       "    <tr>\n",
       "      <th>8</th>\n",
       "      <td>9</td>\n",
       "      <td>1</td>\n",
       "      <td>3</td>\n",
       "      <td>Johnson, Mrs. Oscar W (Elisabeth Vilhelmina Berg)</td>\n",
       "      <td>female</td>\n",
       "      <td>27</td>\n",
       "      <td>0</td>\n",
       "      <td>2</td>\n",
       "      <td>347742</td>\n",
       "      <td>11.1333</td>\n",
       "      <td>NaN</td>\n",
       "      <td>S</td>\n",
       "    </tr>\n",
       "    <tr>\n",
       "      <th>9</th>\n",
       "      <td>10</td>\n",
       "      <td>1</td>\n",
       "      <td>2</td>\n",
       "      <td>Nasser, Mrs. Nicholas (Adele Achem)</td>\n",
       "      <td>female</td>\n",
       "      <td>14</td>\n",
       "      <td>1</td>\n",
       "      <td>0</td>\n",
       "      <td>237736</td>\n",
       "      <td>30.0708</td>\n",
       "      <td>NaN</td>\n",
       "      <td>C</td>\n",
       "    </tr>\n",
       "  </tbody>\n",
       "</table>\n",
       "</div>"
      ],
      "text/plain": [
       "   PassengerId  Survived  Pclass  \\\n",
       "0            1         0       3   \n",
       "1            2         1       1   \n",
       "2            3         1       3   \n",
       "3            4         1       1   \n",
       "4            5         0       3   \n",
       "5            6         0       3   \n",
       "6            7         0       1   \n",
       "7            8         0       3   \n",
       "8            9         1       3   \n",
       "9           10         1       2   \n",
       "\n",
       "                                                Name     Sex  Age  SibSp  \\\n",
       "0                            Braund, Mr. Owen Harris    male   22      1   \n",
       "1  Cumings, Mrs. John Bradley (Florence Briggs Th...  female   38      1   \n",
       "2                             Heikkinen, Miss. Laina  female   26      0   \n",
       "3       Futrelle, Mrs. Jacques Heath (Lily May Peel)  female   35      1   \n",
       "4                           Allen, Mr. William Henry    male   35      0   \n",
       "5                                   Moran, Mr. James    male  NaN      0   \n",
       "6                            McCarthy, Mr. Timothy J    male   54      0   \n",
       "7                     Palsson, Master. Gosta Leonard    male    2      3   \n",
       "8  Johnson, Mrs. Oscar W (Elisabeth Vilhelmina Berg)  female   27      0   \n",
       "9                Nasser, Mrs. Nicholas (Adele Achem)  female   14      1   \n",
       "\n",
       "   Parch            Ticket     Fare Cabin Embarked  \n",
       "0      0         A/5 21171   7.2500   NaN        S  \n",
       "1      0          PC 17599  71.2833   C85        C  \n",
       "2      0  STON/O2. 3101282   7.9250   NaN        S  \n",
       "3      0            113803  53.1000  C123        S  \n",
       "4      0            373450   8.0500   NaN        S  \n",
       "5      0            330877   8.4583   NaN        Q  \n",
       "6      0             17463  51.8625   E46        S  \n",
       "7      1            349909  21.0750   NaN        S  \n",
       "8      2            347742  11.1333   NaN        S  \n",
       "9      0            237736  30.0708   NaN        C  "
      ]
     },
     "execution_count": 2,
     "metadata": {},
     "output_type": "execute_result"
    }
   ],
   "source": [
    "#get the data\n",
    "import pandas as pd\n",
    "import urllib, os\n",
    "\n",
    "tdata_dir = '../data/titantic'\n",
    "\n",
    "ttrain_data = pd.read_csv(tdata_dir + '/train.csv')\n",
    "ttrain_data.head(10)\n"
   ]
  },
  {
   "cell_type": "code",
   "execution_count": 3,
   "metadata": {
    "collapsed": false
   },
   "outputs": [
    {
     "data": {
      "text/html": [
       "<div>\n",
       "<table border=\"1\" class=\"dataframe\">\n",
       "  <thead>\n",
       "    <tr style=\"text-align: right;\">\n",
       "      <th></th>\n",
       "      <th>PassengerId</th>\n",
       "      <th>Survived</th>\n",
       "      <th>Pclass</th>\n",
       "      <th>Age</th>\n",
       "      <th>SibSp</th>\n",
       "      <th>Parch</th>\n",
       "      <th>Fare</th>\n",
       "    </tr>\n",
       "  </thead>\n",
       "  <tbody>\n",
       "    <tr>\n",
       "      <th>count</th>\n",
       "      <td>891.000000</td>\n",
       "      <td>891.000000</td>\n",
       "      <td>891.000000</td>\n",
       "      <td>714.000000</td>\n",
       "      <td>891.000000</td>\n",
       "      <td>891.000000</td>\n",
       "      <td>891.000000</td>\n",
       "    </tr>\n",
       "    <tr>\n",
       "      <th>mean</th>\n",
       "      <td>446.000000</td>\n",
       "      <td>0.383838</td>\n",
       "      <td>2.308642</td>\n",
       "      <td>29.699118</td>\n",
       "      <td>0.523008</td>\n",
       "      <td>0.381594</td>\n",
       "      <td>32.204208</td>\n",
       "    </tr>\n",
       "    <tr>\n",
       "      <th>std</th>\n",
       "      <td>257.353842</td>\n",
       "      <td>0.486592</td>\n",
       "      <td>0.836071</td>\n",
       "      <td>14.526497</td>\n",
       "      <td>1.102743</td>\n",
       "      <td>0.806057</td>\n",
       "      <td>49.693429</td>\n",
       "    </tr>\n",
       "    <tr>\n",
       "      <th>min</th>\n",
       "      <td>1.000000</td>\n",
       "      <td>0.000000</td>\n",
       "      <td>1.000000</td>\n",
       "      <td>0.420000</td>\n",
       "      <td>0.000000</td>\n",
       "      <td>0.000000</td>\n",
       "      <td>0.000000</td>\n",
       "    </tr>\n",
       "    <tr>\n",
       "      <th>25%</th>\n",
       "      <td>223.500000</td>\n",
       "      <td>0.000000</td>\n",
       "      <td>2.000000</td>\n",
       "      <td>20.125000</td>\n",
       "      <td>0.000000</td>\n",
       "      <td>0.000000</td>\n",
       "      <td>7.910400</td>\n",
       "    </tr>\n",
       "    <tr>\n",
       "      <th>50%</th>\n",
       "      <td>446.000000</td>\n",
       "      <td>0.000000</td>\n",
       "      <td>3.000000</td>\n",
       "      <td>28.000000</td>\n",
       "      <td>0.000000</td>\n",
       "      <td>0.000000</td>\n",
       "      <td>14.454200</td>\n",
       "    </tr>\n",
       "    <tr>\n",
       "      <th>75%</th>\n",
       "      <td>668.500000</td>\n",
       "      <td>1.000000</td>\n",
       "      <td>3.000000</td>\n",
       "      <td>38.000000</td>\n",
       "      <td>1.000000</td>\n",
       "      <td>0.000000</td>\n",
       "      <td>31.000000</td>\n",
       "    </tr>\n",
       "    <tr>\n",
       "      <th>max</th>\n",
       "      <td>891.000000</td>\n",
       "      <td>1.000000</td>\n",
       "      <td>3.000000</td>\n",
       "      <td>80.000000</td>\n",
       "      <td>8.000000</td>\n",
       "      <td>6.000000</td>\n",
       "      <td>512.329200</td>\n",
       "    </tr>\n",
       "  </tbody>\n",
       "</table>\n",
       "</div>"
      ],
      "text/plain": [
       "       PassengerId    Survived      Pclass         Age       SibSp  \\\n",
       "count   891.000000  891.000000  891.000000  714.000000  891.000000   \n",
       "mean    446.000000    0.383838    2.308642   29.699118    0.523008   \n",
       "std     257.353842    0.486592    0.836071   14.526497    1.102743   \n",
       "min       1.000000    0.000000    1.000000    0.420000    0.000000   \n",
       "25%     223.500000    0.000000    2.000000   20.125000    0.000000   \n",
       "50%     446.000000    0.000000    3.000000   28.000000    0.000000   \n",
       "75%     668.500000    1.000000    3.000000   38.000000    1.000000   \n",
       "max     891.000000    1.000000    3.000000   80.000000    8.000000   \n",
       "\n",
       "            Parch        Fare  \n",
       "count  891.000000  891.000000  \n",
       "mean     0.381594   32.204208  \n",
       "std      0.806057   49.693429  \n",
       "min      0.000000    0.000000  \n",
       "25%      0.000000    7.910400  \n",
       "50%      0.000000   14.454200  \n",
       "75%      0.000000   31.000000  \n",
       "max      6.000000  512.329200  "
      ]
     },
     "execution_count": 3,
     "metadata": {},
     "output_type": "execute_result"
    }
   ],
   "source": [
    "ttrain_data.describe()"
   ]
  },
  {
   "cell_type": "code",
   "execution_count": 4,
   "metadata": {
    "collapsed": false
   },
   "outputs": [
    {
     "data": {
      "image/png": "[encoded data removed]",
      "text/plain": [
       "<matplotlib.figure.Figure at 0x7fa5b4800590>"
      ]
     },
     "metadata": {},
     "output_type": "display_data"
    }
   ],
   "source": [
    "%matplotlib inline\n",
    "\n",
    "import matplotlib.pyplot as plt\n",
    "import seaborn as sb\n",
    "\n",
    "# sb.pairplot(ttrain_data.iloc() , hue='Survived')\n",
    "titantic_pair_plot = sb.pairplot(ttrain_data.iloc[:,1:].dropna(), hue='Survived')"
   ]
  },
  {
   "cell_type": "code",
   "execution_count": 5,
   "metadata": {
    "collapsed": false
   },
   "outputs": [
    {
     "data": {
      "text/plain": [
       "PassengerId                                                    2\n",
       "Survived                                                       1\n",
       "Pclass                                                         1\n",
       "Name           Cumings, Mrs. John Bradley (Florence Briggs Th...\n",
       "Sex                                                       female\n",
       "Age                                                           38\n",
       "SibSp                                                          1\n",
       "Parch                                                          0\n",
       "Ticket                                                  PC 17599\n",
       "Fare                                                     71.2833\n",
       "Cabin                                                        C85\n",
       "Embarked                                                       C\n",
       "Name: 1, dtype: object"
      ]
     },
     "execution_count": 5,
     "metadata": {},
     "output_type": "execute_result"
    }
   ],
   "source": [
    "ttrain_data.loc[1,:]"
   ]
  },
  {
   "cell_type": "code",
   "execution_count": 6,
   "metadata": {
    "collapsed": true
   },
   "outputs": [],
   "source": [
    "data = ttrain_data.copy()"
   ]
  },
  {
   "cell_type": "code",
   "execution_count": 7,
   "metadata": {
    "collapsed": true
   },
   "outputs": [],
   "source": [
    "def replace_missing_values_with_mean(df, col, query, round=True):\n",
    "    mean = df.query(query)"
   ]
  },
  {
   "cell_type": "code",
   "execution_count": 8,
   "metadata": {
    "collapsed": false
   },
   "outputs": [
    {
     "name": "stdout",
     "output_type": "stream",
     "text": [
      "Average Age of Pclass1 = 38.233\n",
      "Average Age of Pclass2 = 29.878\n",
      "Average Age of Pclass3 = 25.141\n"
     ]
    }
   ],
   "source": [
    "pclass1_average_age = data.loc[data['Pclass'] == 1, 'Age'].mean()\n",
    "pclass2_average_age = data.loc[data['Pclass'] == 2, 'Age'].mean()\n",
    "pclass3_average_age = data.loc[data['Pclass'] == 3, 'Age'].mean()\n",
    "\n",
    "print 'Average Age of Pclass1 = {0:.3f}'.format(pclass1_average_age)\n",
    "print 'Average Age of Pclass2 = {0:.3f}'.format(pclass2_average_age)\n",
    "print 'Average Age of Pclass3 = {0:.3f}'.format(pclass3_average_age)"
   ]
  },
  {
   "cell_type": "code",
   "execution_count": 9,
   "metadata": {
    "collapsed": false
   },
   "outputs": [],
   "source": [
    "# fill ages for people with missing values from the mean\n",
    "\n",
    "data.loc[(data['Pclass'] == 1) &\n",
    "               (data['Age'].isnull()), 'Age'] = round(pclass1_average_age)\n",
    "\n",
    "data.loc[(data['Pclass'] == 2) &\n",
    "               (data['Age'].isnull()), 'Age'] = round(pclass2_average_age)\n",
    "\n",
    "data.loc[(data['Pclass'] == 3) &\n",
    "               (data['Age'].isnull()), 'Age'] = round(pclass3_average_age)\n"
   ]
  },
  {
   "cell_type": "code",
   "execution_count": 10,
   "metadata": {
    "collapsed": false
   },
   "outputs": [],
   "source": [
    "assert len( data.loc[data['Age'].isnull(),:] ) == 0 "
   ]
  },
  {
   "cell_type": "code",
   "execution_count": 11,
   "metadata": {
    "collapsed": false
   },
   "outputs": [
    {
     "data": {
      "text/html": [
       "<div>\n",
       "<table border=\"1\" class=\"dataframe\">\n",
       "  <thead>\n",
       "    <tr style=\"text-align: right;\">\n",
       "      <th></th>\n",
       "      <th>PassengerId</th>\n",
       "      <th>Survived</th>\n",
       "      <th>Pclass</th>\n",
       "      <th>Name</th>\n",
       "      <th>Sex</th>\n",
       "      <th>Age</th>\n",
       "      <th>SibSp</th>\n",
       "      <th>Parch</th>\n",
       "      <th>Ticket</th>\n",
       "      <th>Fare</th>\n",
       "      <th>Cabin</th>\n",
       "      <th>Embarked</th>\n",
       "    </tr>\n",
       "  </thead>\n",
       "  <tbody>\n",
       "    <tr>\n",
       "      <th>0</th>\n",
       "      <td>1</td>\n",
       "      <td>0</td>\n",
       "      <td>3</td>\n",
       "      <td>Braund, Mr. Owen Harris</td>\n",
       "      <td>male</td>\n",
       "      <td>22</td>\n",
       "      <td>1</td>\n",
       "      <td>0</td>\n",
       "      <td>A/5 21171</td>\n",
       "      <td>7.2500</td>\n",
       "      <td>NaN</td>\n",
       "      <td>S</td>\n",
       "    </tr>\n",
       "    <tr>\n",
       "      <th>1</th>\n",
       "      <td>2</td>\n",
       "      <td>1</td>\n",
       "      <td>1</td>\n",
       "      <td>Cumings, Mrs. John Bradley (Florence Briggs Th...</td>\n",
       "      <td>female</td>\n",
       "      <td>38</td>\n",
       "      <td>1</td>\n",
       "      <td>0</td>\n",
       "      <td>PC 17599</td>\n",
       "      <td>71.2833</td>\n",
       "      <td>C85</td>\n",
       "      <td>C</td>\n",
       "    </tr>\n",
       "    <tr>\n",
       "      <th>2</th>\n",
       "      <td>3</td>\n",
       "      <td>1</td>\n",
       "      <td>3</td>\n",
       "      <td>Heikkinen, Miss. Laina</td>\n",
       "      <td>female</td>\n",
       "      <td>26</td>\n",
       "      <td>0</td>\n",
       "      <td>0</td>\n",
       "      <td>STON/O2. 3101282</td>\n",
       "      <td>7.9250</td>\n",
       "      <td>NaN</td>\n",
       "      <td>S</td>\n",
       "    </tr>\n",
       "    <tr>\n",
       "      <th>3</th>\n",
       "      <td>4</td>\n",
       "      <td>1</td>\n",
       "      <td>1</td>\n",
       "      <td>Futrelle, Mrs. Jacques Heath (Lily May Peel)</td>\n",
       "      <td>female</td>\n",
       "      <td>35</td>\n",
       "      <td>1</td>\n",
       "      <td>0</td>\n",
       "      <td>113803</td>\n",
       "      <td>53.1000</td>\n",
       "      <td>C123</td>\n",
       "      <td>S</td>\n",
       "    </tr>\n",
       "    <tr>\n",
       "      <th>4</th>\n",
       "      <td>5</td>\n",
       "      <td>0</td>\n",
       "      <td>3</td>\n",
       "      <td>Allen, Mr. William Henry</td>\n",
       "      <td>male</td>\n",
       "      <td>35</td>\n",
       "      <td>0</td>\n",
       "      <td>0</td>\n",
       "      <td>373450</td>\n",
       "      <td>8.0500</td>\n",
       "      <td>NaN</td>\n",
       "      <td>S</td>\n",
       "    </tr>\n",
       "    <tr>\n",
       "      <th>5</th>\n",
       "      <td>6</td>\n",
       "      <td>0</td>\n",
       "      <td>3</td>\n",
       "      <td>Moran, Mr. James</td>\n",
       "      <td>male</td>\n",
       "      <td>25</td>\n",
       "      <td>0</td>\n",
       "      <td>0</td>\n",
       "      <td>330877</td>\n",
       "      <td>8.4583</td>\n",
       "      <td>NaN</td>\n",
       "      <td>Q</td>\n",
       "    </tr>\n",
       "    <tr>\n",
       "      <th>6</th>\n",
       "      <td>7</td>\n",
       "      <td>0</td>\n",
       "      <td>1</td>\n",
       "      <td>McCarthy, Mr. Timothy J</td>\n",
       "      <td>male</td>\n",
       "      <td>54</td>\n",
       "      <td>0</td>\n",
       "      <td>0</td>\n",
       "      <td>17463</td>\n",
       "      <td>51.8625</td>\n",
       "      <td>E46</td>\n",
       "      <td>S</td>\n",
       "    </tr>\n",
       "    <tr>\n",
       "      <th>7</th>\n",
       "      <td>8</td>\n",
       "      <td>0</td>\n",
       "      <td>3</td>\n",
       "      <td>Palsson, Master. Gosta Leonard</td>\n",
       "      <td>male</td>\n",
       "      <td>2</td>\n",
       "      <td>3</td>\n",
       "      <td>1</td>\n",
       "      <td>349909</td>\n",
       "      <td>21.0750</td>\n",
       "      <td>NaN</td>\n",
       "      <td>S</td>\n",
       "    </tr>\n",
       "    <tr>\n",
       "      <th>8</th>\n",
       "      <td>9</td>\n",
       "      <td>1</td>\n",
       "      <td>3</td>\n",
       "      <td>Johnson, Mrs. Oscar W (Elisabeth Vilhelmina Berg)</td>\n",
       "      <td>female</td>\n",
       "      <td>27</td>\n",
       "      <td>0</td>\n",
       "      <td>2</td>\n",
       "      <td>347742</td>\n",
       "      <td>11.1333</td>\n",
       "      <td>NaN</td>\n",
       "      <td>S</td>\n",
       "    </tr>\n",
       "    <tr>\n",
       "      <th>9</th>\n",
       "      <td>10</td>\n",
       "      <td>1</td>\n",
       "      <td>2</td>\n",
       "      <td>Nasser, Mrs. Nicholas (Adele Achem)</td>\n",
       "      <td>female</td>\n",
       "      <td>14</td>\n",
       "      <td>1</td>\n",
       "      <td>0</td>\n",
       "      <td>237736</td>\n",
       "      <td>30.0708</td>\n",
       "      <td>NaN</td>\n",
       "      <td>C</td>\n",
       "    </tr>\n",
       "  </tbody>\n",
       "</table>\n",
       "</div>"
      ],
      "text/plain": [
       "   PassengerId  Survived  Pclass  \\\n",
       "0            1         0       3   \n",
       "1            2         1       1   \n",
       "2            3         1       3   \n",
       "3            4         1       1   \n",
       "4            5         0       3   \n",
       "5            6         0       3   \n",
       "6            7         0       1   \n",
       "7            8         0       3   \n",
       "8            9         1       3   \n",
       "9           10         1       2   \n",
       "\n",
       "                                                Name     Sex  Age  SibSp  \\\n",
       "0                            Braund, Mr. Owen Harris    male   22      1   \n",
       "1  Cumings, Mrs. John Bradley (Florence Briggs Th...  female   38      1   \n",
       "2                             Heikkinen, Miss. Laina  female   26      0   \n",
       "3       Futrelle, Mrs. Jacques Heath (Lily May Peel)  female   35      1   \n",
       "4                           Allen, Mr. William Henry    male   35      0   \n",
       "5                                   Moran, Mr. James    male   25      0   \n",
       "6                            McCarthy, Mr. Timothy J    male   54      0   \n",
       "7                     Palsson, Master. Gosta Leonard    male    2      3   \n",
       "8  Johnson, Mrs. Oscar W (Elisabeth Vilhelmina Berg)  female   27      0   \n",
       "9                Nasser, Mrs. Nicholas (Adele Achem)  female   14      1   \n",
       "\n",
       "   Parch            Ticket     Fare Cabin Embarked  \n",
       "0      0         A/5 21171   7.2500   NaN        S  \n",
       "1      0          PC 17599  71.2833   C85        C  \n",
       "2      0  STON/O2. 3101282   7.9250   NaN        S  \n",
       "3      0            113803  53.1000  C123        S  \n",
       "4      0            373450   8.0500   NaN        S  \n",
       "5      0            330877   8.4583   NaN        Q  \n",
       "6      0             17463  51.8625   E46        S  \n",
       "7      1            349909  21.0750   NaN        S  \n",
       "8      2            347742  11.1333   NaN        S  \n",
       "9      0            237736  30.0708   NaN        C  "
      ]
     },
     "execution_count": 11,
     "metadata": {},
     "output_type": "execute_result"
    }
   ],
   "source": [
    "data[0:10]"
   ]
  },
  {
   "cell_type": "code",
   "execution_count": 12,
   "metadata": {
    "collapsed": false
   },
   "outputs": [
    {
     "data": {
      "text/plain": [
       "array([1, 'female', 38.0, 1, 0, 71.2833, 'C'], dtype=object)"
      ]
     },
     "execution_count": 12,
     "metadata": {},
     "output_type": "execute_result"
    }
   ],
   "source": [
    "all_inputs_raw = data.iloc[:,[2,4,5,6,7,9,11]].values\n",
    "all_inputs_raw[1]"
   ]
  },
  {
   "cell_type": "code",
   "execution_count": 13,
   "metadata": {
    "collapsed": false
   },
   "outputs": [],
   "source": [
    "from sklearn.preprocessing import label_binarize\n",
    "all_inputs_raw[:,1] = label_binarize(all_inputs_raw[:,1], classes=[ 'female', 'male']).T\n"
   ]
  },
  {
   "cell_type": "code",
   "execution_count": 14,
   "metadata": {
    "collapsed": false
   },
   "outputs": [
    {
     "data": {
      "text/plain": [
       "array([[3, 1, 22.0, ..., 0, 7.25, 'S'],\n",
       "       [1, 0, 38.0, ..., 0, 71.2833, 'C'],\n",
       "       [3, 0, 26.0, ..., 0, 7.925, 'S'],\n",
       "       ..., \n",
       "       [3, 0, 25.0, ..., 2, 23.45, 'S'],\n",
       "       [1, 1, 26.0, ..., 0, 30.0, 'C'],\n",
       "       [3, 1, 32.0, ..., 0, 7.75, 'Q']], dtype=object)"
      ]
     },
     "execution_count": 14,
     "metadata": {},
     "output_type": "execute_result"
    }
   ],
   "source": [
    "all_inputs_raw"
   ]
  },
  {
   "cell_type": "code",
   "execution_count": 15,
   "metadata": {
    "collapsed": false
   },
   "outputs": [
    {
     "name": "stderr",
     "output_type": "stream",
     "text": [
      "/usr/local/lib/python2.7/dist-packages/numpy/lib/arraysetops.py:198: FutureWarning: numpy not_equal will not check object identity in the future. The comparison did not return the same result as suggested by the identity (`is`)) and will change.\n",
      "  flag = np.concatenate(([True], aux[1:] != aux[:-1]))\n"
     ]
    },
    {
     "data": {
      "text/plain": [
       "array([[3, 1, 22.0, 1, 0, 7.25, 1, 0, 0],\n",
       "       [1, 0, 38.0, 1, 0, 71.2833, 0, 1, 0],\n",
       "       [3, 0, 26.0, 0, 0, 7.925, 1, 0, 0],\n",
       "       [1, 0, 35.0, 1, 0, 53.1, 1, 0, 0],\n",
       "       [3, 1, 35.0, 0, 0, 8.05, 1, 0, 0]], dtype=object)"
      ]
     },
     "execution_count": 15,
     "metadata": {},
     "output_type": "execute_result"
    }
   ],
   "source": [
    "import numpy as np\n",
    "embarked_array = label_binarize(all_inputs_raw[:,6], classes=[ 'S', 'C', 'Q'])\n",
    "all_inputs = np.hstack(( all_inputs_raw[:,0:6] , embarked_array ))\n",
    "all_inputs[0:5]"
   ]
  },
  {
   "cell_type": "code",
   "execution_count": 16,
   "metadata": {
    "collapsed": false
   },
   "outputs": [
    {
     "data": {
      "text/plain": [
       "array([0, 1, 1, 1, 0, 0, 0, 0, 1, 1])"
      ]
     },
     "execution_count": 16,
     "metadata": {},
     "output_type": "execute_result"
    }
   ],
   "source": [
    "all_classes = data.iloc[:,1].values\n",
    "all_classes[0:10]"
   ]
  },
  {
   "cell_type": "code",
   "execution_count": 17,
   "metadata": {
    "collapsed": false
   },
   "outputs": [],
   "source": [
    "from sklearn.cross_validation import train_test_split\n",
    "\n",
    "(training_inputs,\n",
    "testing_inputs,\n",
    "training_classes,\n",
    "testing_classes) = train_test_split(all_inputs, all_classes, train_size=0.9, random_state=1)"
   ]
  },
  {
   "cell_type": "code",
   "execution_count": 18,
   "metadata": {
    "collapsed": false
   },
   "outputs": [
    {
     "name": "stdout",
     "output_type": "stream",
     "text": [
      "(801, 9)\n",
      "(90, 9)\n",
      "(801,)\n",
      "(90,)\n"
     ]
    }
   ],
   "source": [
    "## get matrix sizes:\n",
    "\n",
    "print training_inputs.shape\n",
    "print testing_inputs.shape\n",
    "print training_classes.shape\n",
    "print testing_classes.shape"
   ]
  },
  {
   "cell_type": "code",
   "execution_count": 19,
   "metadata": {
    "collapsed": false
   },
   "outputs": [
    {
     "data": {
      "text/plain": [
       "0.76666666666666672"
      ]
     },
     "execution_count": 19,
     "metadata": {},
     "output_type": "execute_result"
    }
   ],
   "source": [
    "from sklearn.tree import DecisionTreeClassifier\n",
    "\n",
    "#train the classifier\n",
    "decision_tree_classifier = DecisionTreeClassifier()\n",
    "decision_tree_classifier.fit(training_inputs, training_classes)\n",
    "\n",
    "#validate the classifier on the testing set\n",
    "decision_tree_classifier.score(testing_inputs, testing_classes)"
   ]
  },
  {
   "cell_type": "code",
   "execution_count": 20,
   "metadata": {
    "collapsed": false
   },
   "outputs": [
    {
     "data": {
      "text/plain": [
       "array([[42, 11],\n",
       "       [10, 27]])"
      ]
     },
     "execution_count": 20,
     "metadata": {},
     "output_type": "execute_result"
    }
   ],
   "source": [
    "from sklearn.metrics import confusion_matrix\n",
    "\n",
    "confusion_matrix(testing_classes, decision_tree_classifier.predict(testing_inputs))"
   ]
  },
  {
   "cell_type": "code",
   "execution_count": 21,
   "metadata": {
    "collapsed": false
   },
   "outputs": [],
   "source": [
    "# model_accuracies = []\n",
    "\n",
    "# for repetition in range(1000):\n",
    "#     (training_inputs,\n",
    "#      testing_inputs,\n",
    "#      training_classes,\n",
    "#      testing_classes) = train_test_split(all_inputs, all_classes, train_size=0.75)\n",
    "    \n",
    "#     decision_tree_classifier = DecisionTreeClassifier()\n",
    "#     decision_tree_classifier.fit(training_inputs, training_classes)\n",
    "#     classifier_accuracy = decision_tree_classifier.score(testing_inputs, testing_classes)\n",
    "#     model_accuracies.append(classifier_accuracy)\n",
    "    \n",
    "# fig = sb.distplot(model_accuracies)\n",
    "\n",
    "# fig.get_figure().savefig('Titantic_decision_tree_accuracy_1000CV.png')\n"
   ]
  },
  {
   "cell_type": "code",
   "execution_count": 22,
   "metadata": {
    "collapsed": false
   },
   "outputs": [],
   "source": [
    "import sklearn.tree as tree\n",
    "from sklearn.externals.six import StringIO\n",
    "\n",
    "with open('titantic_dt_noprune.dot', 'w') as out_file:\n",
    "    out_file = tree.export_graphviz(decision_tree_classifier, out_file=out_file)\n",
    "    dot_data = StringIO()\n",
    "    tree.export_graphviz(decision_tree_classifier, out_file=dot_data)"
   ]
  },
  {
   "cell_type": "code",
   "execution_count": 23,
   "metadata": {
    "collapsed": false
   },
   "outputs": [
    {
     "data": {
      "image/png": "[encoded data removed]",
      "text/plain": [
       "<matplotlib.figure.Figure at 0x7fa5b2b42a50>"
      ]
     },
     "metadata": {},
     "output_type": "display_data"
    }
   ],
   "source": [
    "from sklearn.cross_validation import cross_val_score\n",
    "\n",
    "decision_tree_classifier = DecisionTreeClassifier()\n",
    "\n",
    "# cross_val_score returns a list of the scores, which we can visualize\n",
    "# to get a reasonable estimate of our classifier's performance\n",
    "cv_scores = cross_val_score(decision_tree_classifier, training_inputs, training_classes, cv=10)\n",
    "sb.distplot(cv_scores)\n",
    "plt.title('Average score: {}'.format(np.mean(cv_scores)))\n",
    "plt.savefig('naive-10fold-cross-val-score.png')"
   ]
  },
  {
   "cell_type": "code",
   "execution_count": 24,
   "metadata": {
    "collapsed": false
   },
   "outputs": [
    {
     "name": "stdout",
     "output_type": "stream",
     "text": [
      "CPU times: user 0 ns, sys: 0 ns, total: 0 ns\n",
      "Wall time: 22.2 µs\n",
      "Best score: 0.822721598002\n",
      "Best parameters: {'max_features': 5, 'splitter': 'best', 'criterion': 'gini', 'max_depth': 7}\n"
     ]
    }
   ],
   "source": [
    "from sklearn.grid_search import GridSearchCV\n",
    "\n",
    "decision_tree_classifier = DecisionTreeClassifier()\n",
    "\n",
    "parameter_grid = {'criterion': ['gini','entropy'],\n",
    "                  'splitter': ['random', 'best'],\n",
    "                 'max_depth': [1,2,3,4,5,6,7,8,9,10,11,12,13,14],\n",
    "                 'max_features': [1,2,3,4,5,6,7,8,9]}\n",
    "\n",
    "cross_validation = StratifiedKFold(training_classes, n_folds=10)\n",
    "\n",
    "%time dt_grid_search = GridSearchCV(decision_tree_classifier,param_grid=parameter_grid,cv=cross_validation)\n",
    "dt_grid_search.fit(all_inputs, all_classes)\n",
    "print('Best score: {}'.format(dt_grid_search.best_score_))\n",
    "print('Best parameters: {}'.format(dt_grid_search.best_params_))"
   ]
  },
  {
   "cell_type": "code",
   "execution_count": 25,
   "metadata": {
    "collapsed": false
   },
   "outputs": [
    {
     "name": "stdout",
     "output_type": "stream",
     "text": [
      "0.822721598002\n"
     ]
    }
   ],
   "source": [
    "print dt_grid_search.best_score_"
   ]
  },
  {
   "cell_type": "code",
   "execution_count": 26,
   "metadata": {
    "collapsed": false
   },
   "outputs": [],
   "source": [
    "decision_tree_classifier = dt_grid_search.best_estimator_\n",
    "with open('titantic_dt_prune.dot', 'w') as out_file:\n",
    "    out_file = tree.export_graphviz(decision_tree_classifier, out_file=out_file)"
   ]
  },
  {
   "cell_type": "code",
   "execution_count": 27,
   "metadata": {
    "collapsed": false
   },
   "outputs": [
    {
     "data": {
      "text/plain": [
       "<matplotlib.text.Text at 0x7fa5b014b7d0>"
      ]
     },
     "execution_count": 27,
     "metadata": {},
     "output_type": "execute_result"
    },
    {
     "data": {
      "image/png": "[encoded data removed]",
      "text/plain": [
       "<matplotlib.figure.Figure at 0x7fa5b2a7e1d0>"
      ]
     },
     "metadata": {},
     "output_type": "display_data"
    }
   ],
   "source": [
    "# cross_val_score returns a list of the scores, which we can visualize\n",
    "# to get a reasonable estimate of our classifier's performance\n",
    "cv_scores = cross_val_score(decision_tree_classifier, all_inputs, all_classes, cv=10)\n",
    "sb.distplot(cv_scores)\n",
    "plt.title('Average score: {}'.format(np.mean(cv_scores)))\n"
   ]
  },
  {
   "cell_type": "code",
   "execution_count": 28,
   "metadata": {
    "collapsed": false
   },
   "outputs": [
    {
     "name": "stdout",
     "output_type": "stream",
     "text": [
      "Object `grid_search.best_estimator_` not found.\n"
     ]
    }
   ],
   "source": [
    "grid_search.best_estimator_??\n"
   ]
  },
  {
   "cell_type": "code",
   "execution_count": 29,
   "metadata": {
    "collapsed": false
   },
   "outputs": [
    {
     "name": "stdout",
     "output_type": "stream",
     "text": [
      "(801, 9)\n",
      "CPU times: user 188 ms, sys: 40 ms, total: 228 ms\n",
      "Wall time: 338 ms\n",
      "train test sizes: [ 72 144 216 288 360 432 504 576 648 720]\n",
      "train scores means: [ 0.97777778  0.94097222  0.90092593  0.8875      0.88583333  0.87962963\n",
      "  0.87678571  0.88854167  0.88256173  0.88166667]\n",
      "train scores std: [ 0.00921285  0.01326734  0.01632888  0.01523036  0.01071877  0.01419418\n",
      "  0.01415421  0.00751959  0.00645387  0.00591869]\n",
      "test scores mean: [ 0.72203821  0.7703106   0.76180985  0.79447043  0.784438    0.80558115\n",
      "  0.79920613  0.80029946  0.80534732  0.80412779]\n",
      "test scores std: [ 0.04911784  0.05896692  0.03767709  0.05276161  0.06005396  0.0510082\n",
      "  0.03061395  0.04206709  0.03567346  0.03446307]\n"
     ]
    },
    {
     "data": {
      "image/png": "[encoded data removed]",
      "text/plain": [
       "<matplotlib.figure.Figure at 0x7fa5b2660d90>"
      ]
     },
     "metadata": {},
     "output_type": "display_data"
    }
   ],
   "source": [
    "import numpy as np\n",
    "\n",
    "# def make_learning_curve(classifier, X, y, \n",
    "#                         cv=None, \n",
    "#                         train_sizes=np.linspace(.1, 1.0, 10) ):\n",
    "#     \"\"\"\n",
    "#     Generate output of the learning curve using a given classifier and feature sets and class designation. \n",
    "#     \"\"\"\n",
    "    \n",
    "#     cv = cv or StratifiedKFold(y, n_folds=10)\n",
    "    \n",
    "#     train_sizes, train_scores, test_scores = learning_curve(classifier,\n",
    "#                                             X,\n",
    "#                                             y,\n",
    "#                                             cv=cv,\n",
    "#                                             train_sizes=[100,300],\n",
    "#                                             n_jobs=-1)\n",
    "#     return (train_sizes, train_scores, test_scores)\n",
    "\n",
    "\n",
    "decision_tree_classifier = dt_grid_search.best_estimator_\n",
    "print training_inputs.shape\n",
    "\n",
    "%time dt_lc_output = make_learning_curve(decision_tree_classifier, training_inputs, training_classes, cv=10, train_sizes=np.linspace(.1,1.0,10) )\n",
    "\n",
    "dt_lc_plot = plot_learning_curve_from_learning_curve_data('Decision Tree Learning Curve\\n{}'.format(dt_grid_search.best_estimator_.get_params()), *dt_lc_output)\n",
    "dt_lc_plot.savefig('tuned_dt_learning_curve.png')"
   ]
  },
  {
   "cell_type": "code",
   "execution_count": 30,
   "metadata": {
    "collapsed": false
   },
   "outputs": [
    {
     "name": "stdout",
     "output_type": "stream",
     "text": [
      "0.811111111111\n"
     ]
    },
    {
     "data": {
      "text/plain": [
       "array([[53,  0],\n",
       "       [17, 20]])"
      ]
     },
     "execution_count": 30,
     "metadata": {},
     "output_type": "execute_result"
    }
   ],
   "source": [
    "dt_final_score = decision_tree_classifier.score(testing_inputs, testing_classes)\n",
    "print dt_final_score\n",
    "confusion_matrix(testing_classes, decision_tree_classifier.predict(testing_inputs))"
   ]
  },
  {
   "cell_type": "code",
   "execution_count": 31,
   "metadata": {
    "collapsed": true
   },
   "outputs": [],
   "source": [
    "# TODO - make violin plots with this data"
   ]
  },
  {
   "cell_type": "markdown",
   "metadata": {},
   "source": [
    "## boosting"
   ]
  },
  {
   "cell_type": "code",
   "execution_count": 32,
   "metadata": {
    "collapsed": false
   },
   "outputs": [],
   "source": [
    "# from sklearn.ensemble import AdaBoostClassifier\n",
    "\n",
    "# model_accuracies = []\n",
    "\n",
    "# for repetition in range(1000):\n",
    "#     (training_inputs,\n",
    "#      testing_inputs,\n",
    "#      training_classes,\n",
    "#      testing_classes) = train_test_split(all_inputs, all_classes, train_size=0.75)\n",
    "    \n",
    "#     ada_boost_classifier = AdaBoostClassifier()\n",
    "#     ada_boost_classifier.fit(training_inputs, training_classes)\n",
    "#     classifier_accuracy = ada_boost_classifier.score(testing_inputs, testing_classes)\n",
    "#     model_accuracies.append(classifier_accuracy)\n",
    "    \n",
    "# sb.distplot(model_accuracies)"
   ]
  },
  {
   "cell_type": "code",
   "execution_count": 33,
   "metadata": {
    "collapsed": false
   },
   "outputs": [
    {
     "name": "stdout",
     "output_type": "stream",
     "text": [
      "CPU times: user 400 ms, sys: 0 ns, total: 400 ms\n",
      "Wall time: 402 ms\n"
     ]
    },
    {
     "data": {
      "image/png": "[encoded data removed]",
      "text/plain": [
       "<matplotlib.figure.Figure at 0x7fa5b2d69b50>"
      ]
     },
     "metadata": {},
     "output_type": "display_data"
    }
   ],
   "source": [
    "from sklearn.ensemble import AdaBoostClassifier\n",
    "ada_boost_classifier = AdaBoostClassifier()\n",
    "%time cv_scores = cross_val_score(ada_boost_classifier, training_inputs, training_classes, cv=10)\n",
    "sb.distplot(cv_scores)\n",
    "plt.title('Average score: {}'.format(np.mean(cv_scores)))\n",
    "plt.savefig('naive_ada_boost_cross_val')"
   ]
  },
  {
   "cell_type": "code",
   "execution_count": 34,
   "metadata": {
    "collapsed": true
   },
   "outputs": [],
   "source": [
    "from sklearn.grid_search import GridSearchCV\n",
    "import time\n",
    "\n",
    "def make_grid_search(classifier,parameter_grid , all_inputs, all_classes, cv=None):\n",
    "    cross_validation = cv or StratifiedKFold(all_classes, n_folds=10)\n",
    "    grid_search = GridSearchCV(classifier,param_grid=parameter_grid,cv=cross_validation)\n",
    "    start = time.time()\n",
    "    %time grid_search.fit(all_inputs, all_classes)\n",
    "    print('Best score: {}'.format(grid_search.best_score_))\n",
    "    print('Best parameters: {}'.format(grid_search.best_params_))\n",
    "    return grid_search, time.time() - start"
   ]
  },
  {
   "cell_type": "code",
   "execution_count": 35,
   "metadata": {
    "collapsed": false
   },
   "outputs": [
    {
     "name": "stdout",
     "output_type": "stream",
     "text": [
      "CPU times: user 53.1 s, sys: 0 ns, total: 53.1 s\n",
      "Wall time: 53.2 s\n",
      "Best score: 0.813982521848\n",
      "Best parameters: {'n_estimators': 75, 'learning_rate': 1, 'algorithm': 'SAMME.R'}\n",
      "53.162006855\n"
     ]
    }
   ],
   "source": [
    "ada_boost_classifier = AdaBoostClassifier()\n",
    "parameter_grid = {'n_estimators': [10,25,50,75,100,200,300],\n",
    "                 'learning_rate': [0.01,0.1,1,2,5],\n",
    "                 'algorithm': ['SAMME', 'SAMME.R']}\n",
    "ada_boost_grid, ada_grid_time = make_grid_search(ada_boost_classifier, parameter_grid, training_inputs, training_classes )                                \n",
    "\n",
    "print ada_grid_time"
   ]
  },
  {
   "cell_type": "code",
   "execution_count": 36,
   "metadata": {
    "collapsed": false
   },
   "outputs": [
    {
     "data": {
      "text/plain": [
       "<matplotlib.text.Text at 0x7fa5b008dd50>"
      ]
     },
     "execution_count": 36,
     "metadata": {},
     "output_type": "execute_result"
    },
    {
     "data": {
      "image/png": "[encoded data removed]",
      "text/plain": [
       "<matplotlib.figure.Figure at 0x7fa5b015dad0>"
      ]
     },
     "metadata": {},
     "output_type": "display_data"
    }
   ],
   "source": [
    "ada_boost_classifier = ada_boost_grid.best_estimator_\n",
    "cv_scores = cross_val_score(ada_boost_classifier, all_inputs, all_classes, cv=10)\n",
    "sb.distplot(cv_scores)\n",
    "plt.title('Average score: {}'.format(np.mean(cv_scores)))"
   ]
  },
  {
   "cell_type": "code",
   "execution_count": 37,
   "metadata": {
    "collapsed": false
   },
   "outputs": [
    {
     "name": "stdout",
     "output_type": "stream",
     "text": [
      "CPU times: user 192 ms, sys: 56 ms, total: 248 ms\n",
      "Wall time: 346 ms\n",
      "train test sizes: [ 80 160 240 320 400 480 560 640 720 801]\n",
      "train scores means: [ 0.9775      0.91875     0.90916667  0.87375     0.8875      0.88166667\n",
      "  0.88196429  0.87359375  0.87791667  0.87602996]\n",
      "train scores std: [ 0.01346291  0.01811422  0.01391941  0.02201739  0.01616323  0.01252775\n",
      "  0.0084685   0.01359375  0.01038328  0.00919194]\n",
      "test scores mean: [ 0.74531211  0.74528686  0.76222903  0.79582624  0.79369141  0.79581347\n",
      "  0.79581319  0.80472619  0.82384037  0.80362728]\n",
      "test scores std: [ 0.02755796  0.03714532  0.04226254  0.02530844  0.05709814  0.03843045\n",
      "  0.03386158  0.04491953  0.0355876   0.04211787]\n"
     ]
    },
    {
     "data": {
      "image/png": "[encoded data removed]",
      "text/plain": [
       "<matplotlib.figure.Figure at 0x7fa5b24667d0>"
      ]
     },
     "metadata": {},
     "output_type": "display_data"
    }
   ],
   "source": [
    "from sklearn.tree import DecisionTreeClassifier\n",
    "\n",
    "base_classifier = DecisionTreeClassifier(max_features=9, splitter='random', criterion='entropy', max_depth=8)\n",
    "base_classifier = DecisionTreeClassifier()\n",
    "ada_boost_classifier = AdaBoostClassifier( base_estimator=base_classifier, **ada_boost_grid.best_params_)\n",
    "\n",
    "%time boost_lc_output = make_learning_curve(decision_tree_classifier, all_inputs, all_classes, train_sizes=np.linspace(.1,1.0,10) )\n",
    "boost_lc_plot = plot_learning_curve_from_learning_curve_data('AdaBoosted Decision Tree Learning Curve', *boost_lc_output)\n",
    "boost_lc_plot.savefig('adaboost_learning_curve.png')"
   ]
  },
  {
   "cell_type": "code",
   "execution_count": 38,
   "metadata": {
    "collapsed": true
   },
   "outputs": [],
   "source": [
    "from sklearn.metrics import confusion_matrix\n",
    "\n",
    "def show_score(classifier, train_input, train_output, test_input, test_output):\n",
    "    classifier.fit(train_input, train_output)\n",
    "    score = classifier.score(test_input, test_output)\n",
    "    print score\n",
    "#     confusion_matrix(test_input, classifier.predict(test_input, test_output))"
   ]
  },
  {
   "cell_type": "code",
   "execution_count": 39,
   "metadata": {
    "collapsed": false
   },
   "outputs": [
    {
     "name": "stdout",
     "output_type": "stream",
     "text": [
      "0.777777777778\n"
     ]
    }
   ],
   "source": [
    "ada_final_score = show_score( ada_boost_grid.best_estimator_,training_inputs, training_classes, testing_inputs, testing_classes )"
   ]
  },
  {
   "cell_type": "code",
   "execution_count": null,
   "metadata": {
    "collapsed": true
   },
   "outputs": [],
   "source": []
  },
  {
   "cell_type": "markdown",
   "metadata": {},
   "source": [
    "## Neural nets"
   ]
  },
  {
   "cell_type": "code",
   "execution_count": 40,
   "metadata": {
    "collapsed": false
   },
   "outputs": [],
   "source": [
    "# from sknn.mlp import Classifier, Layer  \n",
    "\n",
    "# from sklearn.pipeline import Pipeline\n",
    "# from sklearn.preprocessing import MinMaxScaler\n",
    "\n",
    "\n",
    "# pipeline = Pipeline([\n",
    "#         ('min/max scalar', MinMaxScaler(feature_range=(0.0, 1.0))),\n",
    "#         ('neural network', Classifier(layers=[Layer(\"Softmax\")], n_iter=50))\n",
    "#     ])\n",
    "\n",
    "# # pipeline.fit(all_inpute, all_classes)\n",
    "\n",
    "\n",
    "# %time cv_scores = cross_val_score(pipeline, training_inputs,training_classes, cv=10)\n",
    "# sb.distplot(cv_scores)\n",
    "# plt.title('Average score: {}'.format(np.mean(cv_scores)))\n"
   ]
  },
  {
   "cell_type": "code",
   "execution_count": 41,
   "metadata": {
    "collapsed": false
   },
   "outputs": [],
   "source": [
    "# from scipy import stats\n",
    "\n",
    "# from sknn.mlp import Classifier, Layer  \n",
    "\n",
    "# from sklearn.pipeline import Pipeline\n",
    "# from sklearn.preprocessing import MinMaxScaler\n",
    "# from sklearn.grid_search import RandomizedSearchCV\n",
    "\n",
    "# # pipeline = Pipeline([\n",
    "# #         ('min/max scalar', MinMaxScaler(feature_range=(0.0, 1.0))),\n",
    "# #         ('neural network', Classifier)\n",
    "# #     ])\n",
    "\n",
    "# nn = Classifier(layers=[Layer('Rectifier'),Layer(\"Softmax\")], n_iter=25)\n",
    "\n",
    "# nn_inputs = MinMaxScaler().fit_transform(all_inputs)\n",
    "\n",
    "\n",
    "# rs = RandomizedSearchCV(nn, param_distributions={\n",
    "#     'learning_rate': stats.uniform(0.001, 0.05),\n",
    "#     'hidden0__units': stats.randint(2, 12),\n",
    "#     'hidden0__type': [\"Rectifier\", \"Sigmoid\", \"Tanh\"],\n",
    "#     'regularize':[\"L2\",'']})\n",
    "\n",
    "# # pipeline.fit(all_inpute, all_classes)\n",
    "# rs.fit(nn_inputs, all_classes)\n",
    "\n",
    "# print('Best score: {}'.format(rs.best_score_))\n",
    "# print('Best parameters: {}'.format(rs.best_params_))\n",
    "\n",
    "# # cv_scores = cross_val_score(pipeline, all_inputs, all_classes, cv=10)\n",
    "# # sb.distplot(cv_scores)\n",
    "# # plt.title('Average score: {}'.format(np.mean(cv_scores)))"
   ]
  },
  {
   "cell_type": "code",
   "execution_count": 42,
   "metadata": {
    "collapsed": false
   },
   "outputs": [
    {
     "ename": "SyntaxError",
     "evalue": "invalid syntax (<ipython-input-42-c13a05be32ec>, line 20)",
     "output_type": "error",
     "traceback": [
      "\u001b[1;36m  File \u001b[1;32m\"<ipython-input-42-c13a05be32ec>\"\u001b[1;36m, line \u001b[1;32m20\u001b[0m\n\u001b[1;33m    nn_test_input = MinMaxScaler()fit_transform(testing_inputs)\u001b[0m\n\u001b[1;37m                                              ^\u001b[0m\n\u001b[1;31mSyntaxError\u001b[0m\u001b[1;31m:\u001b[0m invalid syntax\n"
     ]
    }
   ],
   "source": [
    "from scipy import stats\n",
    "\n",
    "from sknn.mlp import Classifier, Layer  \n",
    "\n",
    "from sklearn.pipeline import Pipeline\n",
    "from sklearn.preprocessing import MinMaxScaler\n",
    "from sklearn.grid_search import RandomizedSearchCV\n",
    "\n",
    "\n",
    "\n",
    "# pipeline = Pipeline([\n",
    "#         ('min/max scalar', MinMaxScaler(feature_range=(0.0, 1.0))),\n",
    "#         ('neural network', Classifier)\n",
    "#     ])\n",
    "\n",
    "nn = Classifier(layers=[Layer('Rectifier'),Layer(\"Softmax\")], n_iter=50)\n",
    "\n",
    "nn_inputs = MinMaxScaler().fit_transform(training_inputs)\n",
    "\n",
    "nn_test_input = MinMaxScaler()fit_transform(testing_inputs)\n",
    "\n",
    "rs = RandomizedSearchCV(nn, param_distributions={\n",
    "    'learning_rate': stats.uniform(0.001, 0.05),\n",
    "    'hidden0__units': stats.randint(2, 12),\n",
    "    'hidden0__type': [\"Rectifier\", \"Sigmoid\", \"Tanh\"],\n",
    "    'regularize':[\"L2\",None]})\n",
    "\n",
    "# pipeline.fit(all_inpute, all_classes)\n",
    "%time rs.fit(nn_inputs, training_classes)\n",
    "\n",
    "print('Best score: {}'.format(rs.best_score_))\n",
    "print('Best parameters: {}'.format(rs.best_params_))\n",
    "\n",
    "# cv_scores = cross_val_score(pipeline, all_inputs, all_classes, cv=10)\n",
    "# sb.distplot(cv_scores)\n",
    "# plt.title('Average score: {}'.format(np.mean(cv_scores)))"
   ]
  },
  {
   "cell_type": "code",
   "execution_count": null,
   "metadata": {
    "collapsed": false
   },
   "outputs": [],
   "source": [
    "# from scipy import stats\n",
    "\n",
    "# from sknn.mlp import Classifier, Layer  \n",
    "\n",
    "# from sklearn.pipeline import Pipeline\n",
    "# from sklearn.preprocessing import MinMaxScaler\n",
    "# from sklearn.grid_search import RandomizedSearchCV\n",
    "\n",
    "# # pipeline = Pipeline([\n",
    "# #         ('min/max scalar', MinMaxScaler(feature_range=(0.0, 1.0))),\n",
    "# #         ('neural network', Classifier)\n",
    "# #     ])\n",
    "\n",
    "# nn = Classifier(layers=[Layer('Rectifier')\n",
    "#                         Layer('Rectifier'),\n",
    "#                         Layer(\"Softmax\")], n_iter=100)\n",
    "\n",
    "# nn_inputs = MinMaxScaler().fit_transform(all_inputs)\n",
    "\n",
    "\n",
    "# rs = RandomizedSearchCV(nn, param_distributions={\n",
    "#     'learning_rate': stats.uniform(0.001, 0.05),\n",
    "#     'hidden0__units': stats.randint(2, 12),\n",
    "#     'hidden0__type': [\"Rectifier\", \"Sigmoid\", \"Tanh\"],\n",
    "#     'regularize':[\"L2\",'']})\n",
    "\n",
    "# # pipeline.fit(all_inpute, all_classes)\n",
    "# rs.fit(nn_inputs, all_classes)\n",
    "\n",
    "# print('Best score: {}'.format(rs.best_score_))\n",
    "# print('Best parameters: {}'.format(rs.best_params_))\n"
   ]
  },
  {
   "cell_type": "code",
   "execution_count": null,
   "metadata": {
    "collapsed": false
   },
   "outputs": [],
   "source": [
    "nn_classifier = Classifier(layers=[Layer('Rectifier', units=8),Layer(\"Softmax\")],learning_rate=0.0019, n_iter=50, regularize=None)\n",
    "cv_scores = cross_val_score(classifier, nn_inputs, training_classes, cv=10)\n",
    "sb.distplot(cv_scores)\n",
    "plt.title('Average score: {}'.format(np.mean(cv_scores)))"
   ]
  },
  {
   "cell_type": "code",
   "execution_count": null,
   "metadata": {
    "collapsed": false
   },
   "outputs": [],
   "source": [
    "nn_classifier = Classifier(layers=[Layer('Rectifier', units=10),Layer(\"Softmax\")],learning_rate=0.0219, n_iter=50)\n",
    "\n",
    "\n",
    "%time nn_lc_output = make_learning_curve(nn_classifier, nn_inputs, training_classes, cv=3, train_sizes=np.linspace(0.1,1.0, 8))\n",
    "nn_lc_plot = plot_learning_curve_from_learning_curve_data('Neural Net Decision Tree Learning Curve 50 iters', *nn_lc_output)\n",
    "nn_lc_plot.savefig('neural_net_lc_50iter.png')"
   ]
  },
  {
   "cell_type": "code",
   "execution_count": null,
   "metadata": {
    "collapsed": false
   },
   "outputs": [],
   "source": [
    "nn_classifier = Classifier(layers=[Layer('Rectifier', units=10),Layer(\"Softmax\")],learning_rate=0.0219, n_iter=100)\n",
    "\n",
    "\n",
    "%time nn_lc_output = make_learning_curve(nn_classifier, nn_inputs, training_classes, cv=3, train_sizes=np.linspace(0.1,1.0, 8))\n",
    "nn_lc_plot = plot_learning_curve_from_learning_curve_data('Neural Net Decision Tree Learning Curve 100 iterations', *nn_lc_output)\n",
    "nn_lc_plot.savefig('neural_net_lc_100iter.png')"
   ]
  },
  {
   "cell_type": "code",
   "execution_count": null,
   "metadata": {
    "collapsed": false
   },
   "outputs": [],
   "source": [
    "nn_classifier = Classifier(layers=[Layer('Rectifier', units=10),Layer(\"Softmax\")],learning_rate=0.0219, n_iter=500)\n",
    "\n",
    "\n",
    "%time nn_lc_output = make_learning_curve(nn_classifier, nn_inputs, training_classes, cv=3, train_sizes=np.linspace(0.1,1.0, 8))\n",
    "nn_lc_plot = plot_learning_curve_from_learning_curve_data('Neural Net Decision Tree Learning Curve 500 iterations', *nn_lc_output)\n",
    "nn_lc_plot.savefig('neural_net_lc_500iter.png')"
   ]
  },
  {
   "cell_type": "code",
   "execution_count": null,
   "metadata": {
    "collapsed": false
   },
   "outputs": [],
   "source": [
    "\n",
    "nn_test_inputs = MinMaxScaler().fit_transform(testing_inputs)"
   ]
  },
  {
   "cell_type": "code",
   "execution_count": null,
   "metadata": {
    "collapsed": false
   },
   "outputs": [],
   "source": [
    "from sklearn.metrics import confusion_matrix\n",
    "\n",
    "def show_score(classifier, train_input, train_output, test_input, test_output):\n",
    "    classifier.fit(train_input, train_output)\n",
    "    score = classifier.score(test_input, test_output)\n",
    "    print score\n",
    "\n",
    "nn = Classifier(layers=[Layer('Rectifier', units=10),Layer(\"Softmax\")],learning_rate=0.0219, n_iter=100)\n",
    "nn.fit(nn_inputs, training_classes)\n",
    "nn_final_score=show_score(nn, nn_inputs, training_classes, nn_test_inputs, testing_classes )"
   ]
  },
  {
   "cell_type": "markdown",
   "metadata": {},
   "source": [
    "## K-nearest neighbor"
   ]
  },
  {
   "cell_type": "code",
   "execution_count": null,
   "metadata": {
    "collapsed": false
   },
   "outputs": [],
   "source": [
    "# from sklearn.neighbors import KNeighborsClassifier\n",
    "\n",
    "# model_accuracies = []\n",
    "\n",
    "# for repetition in range(1000):\n",
    "#     (training_inputs,\n",
    "#      testing_inputs,\n",
    "#      training_classes,\n",
    "#      testing_classes) = train_test_split(all_inputs, all_classes, train_size=0.75)\n",
    "    \n",
    "#     classifier = KNeighborsClassifier()\n",
    "#     classifier.fit(training_inputs, training_classes)\n",
    "#     classifier_accuracy = classifier.score(testing_inputs, testing_classes)\n",
    "#     model_accuracies.append(classifier_accuracy)\n",
    "    \n",
    "# sb.distplot(model_accuracies)\n"
   ]
  },
  {
   "cell_type": "code",
   "execution_count": null,
   "metadata": {
    "collapsed": false
   },
   "outputs": [],
   "source": [
    "print training_inputs.shape\n",
    "print training_classes.shape\n"
   ]
  },
  {
   "cell_type": "code",
   "execution_count": null,
   "metadata": {
    "collapsed": false
   },
   "outputs": [],
   "source": [
    "from sklearn.neighbors import KNeighborsClassifier\n",
    "classifier = KNeighborsClassifier()\n",
    "parameter_grid = {'n_neighbors': [1,5,10,20,30,50,100],\n",
    "                 'weights': ['uniform','distance'],\n",
    "                 'algorithm': ['auto', 'ball_tree', 'kd_tree', 'brute'],\n",
    "                 'leaf_size': [1,5,10,20,30,50,100]}\n",
    "                                \n",
    "cross_validation = StratifiedKFold(training_classes, n_folds=10)\n",
    "\n",
    "%time grid_search = GridSearchCV(classifier,param_grid=parameter_grid,cv=cross_validation)\n",
    "\n",
    "grid_search.fit(training_inputs, training_classes)\n",
    "print('Best score: {}'.format(grid_search.best_score_))\n",
    "print('Best parameters: {}'.format(grid_search.best_params_))"
   ]
  },
  {
   "cell_type": "code",
   "execution_count": null,
   "metadata": {
    "collapsed": false
   },
   "outputs": [],
   "source": [
    "classifier = grid_search.best_estimator_\n",
    "cv_scores = cross_val_score(classifier, training_inputs, training_classes, cv=10)\n",
    "sb.distplot(cv_scores)\n",
    "plt.title('Average score: {}'.format(np.mean(cv_scores)))"
   ]
  },
  {
   "cell_type": "code",
   "execution_count": null,
   "metadata": {
    "collapsed": false
   },
   "outputs": [],
   "source": [
    "knn_classifier = KNeighborsClassifier(**grid_search.best_params_)\n",
    "\n",
    "%time knn_lc_output = make_learning_curve(knn_classifier, training_inputs, training_classes, train_sizes=np.linspace(0.1,1.0, 8))\n",
    "knn_lc_plot = plot_learning_curve_from_learning_curve_data('KNN\\n{}\\nLearning Curve'.format(knn_classifier.get_params()), *knn_lc_output)\n",
    "knn_lc_plot.savefig('knn_best_learning_curve.png')"
   ]
  },
  {
   "cell_type": "code",
   "execution_count": null,
   "metadata": {
    "collapsed": true
   },
   "outputs": [],
   "source": [
    "def show_score(classifier, train_input, train_output, test_input, test_output):\n",
    "    classifier.fit(train_input, train_output)\n",
    "    score = classifier.score(test_input, test_output)\n",
    "    print score\n",
    "\n",
    "knn_final_score=show_score(knn_classifier, training_inputs, training_classes, testing_inputs, testing_classes )"
   ]
  },
  {
   "cell_type": "markdown",
   "metadata": {},
   "source": [
    "## Support Vector Machine"
   ]
  },
  {
   "cell_type": "code",
   "execution_count": null,
   "metadata": {
    "collapsed": false
   },
   "outputs": [],
   "source": [
    "# from sklearn.svm import SVC\n",
    "\n",
    "# model_accuracies = []\n",
    "\n",
    "# for repetition in range(1000):\n",
    "#     (training_inputs,\n",
    "#      testing_inputs,\n",
    "#      training_classes,\n",
    "#      testing_classes) = train_test_split(all_inputs, all_classes, train_size=0.75)\n",
    "    \n",
    "#     classifier = SVC()\n",
    "#     classifier.fit(training_inputs, training_classes)\n",
    "#     classifier_accuracy = classifier.score(testing_inputs, testing_classes)\n",
    "#     model_accuracies.append(classifier_accuracy)\n",
    "    \n",
    "# sb.distplot(model_accuracies)"
   ]
  },
  {
   "cell_type": "code",
   "execution_count": null,
   "metadata": {
    "collapsed": false
   },
   "outputs": [],
   "source": [
    "SVC?"
   ]
  },
  {
   "cell_type": "code",
   "execution_count": null,
   "metadata": {
    "collapsed": false
   },
   "outputs": [],
   "source": [
    "from sklearn.svm import SVC\n",
    "from sklearn.grid_search import GridSearchCV\n",
    "\n",
    "\n",
    "classifier = SVC()\n",
    "parameter_grid = {'kernel': ['rbf','linear'],\n",
    "#                   #'degree': [2,3,4],#,5,6],\n",
    "                  }\n",
    "                                \n",
    "\n",
    "grid_search = GridSearchCV(classifier, param_grid=parameter_grid, cv=3, n_jobs=-1, verbose=1)\n",
    "\n",
    "%time grid_search.fit(training_inputs, training_classes)\n",
    "print('Best score: {}'.format(grid_search.best_score_))\n",
    "print('Best parameters: {}'.format(grid_search.best_params_))"
   ]
  },
  {
   "cell_type": "code",
   "execution_count": null,
   "metadata": {
    "collapsed": true
   },
   "outputs": [],
   "source": [
    "#classifier = grid_search.best_estimator_\n",
    "#cv_scores = cross_val_score(classifier, all_inputs, all_classes, cv=10)\n",
    "#sb.distplot(cv_scores)\n",
    "#plt.title('Average score: {}'.format(np.mean(cv_scores)))"
   ]
  },
  {
   "cell_type": "code",
   "execution_count": null,
   "metadata": {
    "collapsed": false
   },
   "outputs": [],
   "source": [
    "svm_classifier = grid_search.best_estimator_\n",
    "\n",
    "%time svn_lc_output = make_learning_curve(svm_classifier, training_inputs, training_classes)\n",
    "svn_lc_plot = plot_learning_curve_from_learning_curve_data('SVN Learning Curve Linear kernel', *svn_lc_output)\n",
    "svn_lc_plot.savefig('svm_final_learning_curve.png')"
   ]
  },
  {
   "cell_type": "code",
   "execution_count": null,
   "metadata": {
    "collapsed": false
   },
   "outputs": [],
   "source": [
    "svm_classifier.score(testing_inputs, testing_classes)"
   ]
  }
 ],
 "metadata": {
  "celltoolbar": "Edit Metadata",
  "kernelspec": {
   "display_name": "Python 2",
   "language": "python",
   "name": "python2"
  },
  "language_info": {
   "codemirror_mode": {
    "name": "ipython",
    "version": 2
   },
   "file_extension": ".py",
   "mimetype": "text/x-python",
   "name": "python",
   "nbconvert_exporter": "python",
   "pygments_lexer": "ipython2",
   "version": "2.7.6"
  }
 },
 "nbformat": 4,
 "nbformat_minor": 0
}
