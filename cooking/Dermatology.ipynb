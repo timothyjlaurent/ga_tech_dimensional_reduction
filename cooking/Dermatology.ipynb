{
 "cells": [
  {
   "cell_type": "markdown",
   "metadata": {},
   "source": [
    "## dermatology\n"
   ]
  },
  {
   "cell_type": "code",
   "execution_count": null,
   "metadata": {
    "collapsed": true
   },
   "outputs": [],
   "source": [
    "       Class code:   Class:                  Number of instances:\n",
    "       1             psoriasis\t\t\t    112\n",
    "       2             seboreic dermatitis             61\n",
    "       3             lichen planus                   72\n",
    "       4             pityriasis rosea                49\n",
    "       5             cronic dermatitis               52    \n",
    "       6             pityriasis rubra pilaris        20"
   ]
  },
  {
   "cell_type": "code",
   "execution_count": 135,
   "metadata": {
    "collapsed": true
   },
   "outputs": [],
   "source": [
    "from sklearn.cluster import KMeans\n",
    "from sklearn.mixture import GMM\n",
    "from sklearn.preprocessing import LabelBinarizer\n",
    "import numpy as np\n",
    "import time\n",
    "\n",
    "def run_k_means(X, n_clusters=20):  \n",
    "    k_means = KMeans(n_clusters=n_clusters, n_jobs=8)\n",
    "    k_means.fit(X)\n",
    "    return k_means.labels_, k_means\n",
    "\n",
    "def run_k_means_ar(ar, n_clusters=20):\n",
    "    out = []\n",
    "    for x in ar:\n",
    "        start = time.time()\n",
    "        clusters, kmeans = run_k_means(x, n_clusters=n_clusters )\n",
    "        e = {'prediction': clusters ,\n",
    "             'model': kmeans,\n",
    "             'time': time.time() - start}\n",
    "        print(e)\n",
    "        out.append( e )\n",
    "    return out\n",
    "    \n",
    "    \n",
    "def run_maxlikelyhood_ar(ar, n_clusters=20):\n",
    "    out = []\n",
    "    for x in ar:\n",
    "        start = time.time()\n",
    "        prediction, model = maxlikelyhood_transform(x, n_components=n_clusters )\n",
    "        e = {'prediction': prediction ,\n",
    "             'model' : model,\n",
    "             'time': time.time() - start}\n",
    "        print(e)\n",
    "        out.append( e )\n",
    "    return out\n",
    "    \n",
    "\n",
    "def maxlikelyhood_transform(X, n_components=20 ):\n",
    "    max_likelyhood = GMM(n_components=n_components)\n",
    "    max_likelyhood.fit(X)\n",
    "    return max_likelyhood.predict(X), max_likelyhood\n",
    "\n",
    "def enrich_with_cluster(datasets, clusters):\n",
    "    out = []\n",
    "    lb = LabelBinarizer()\n",
    "    for i, dataset in enumerate(datasets):\n",
    "        cluster = clusters[i]\n",
    "        print('dataset')\n",
    "        print(dataset)\n",
    "        print(dataset.shape)\n",
    "        \n",
    "        print('cluster')\n",
    "        print(cluster)\n",
    "        print(cluster.shape)\n",
    "        cluster_bin = lb.fit_transform(cluster)\n",
    "        print('cluster-bin')\n",
    "        print(cluster_bin)\n",
    "        print(cluster_bin.shape)\n",
    "        e = np.hstack((dataset, cluster_bin))\n",
    "        print('output')\n",
    "        print(e)\n",
    "        print(e.shape)\n",
    "        out.append(e)\n",
    "    return out\n",
    "\n",
    "def get_predictions(kmeans_ar):\n",
    "    return [ kmean['prediction'] for kmean in kmeans_ar]\n",
    "\n",
    "\n",
    "from sknn.mlp import Classifier, Layer  \n",
    "from sklearn.pipeline import Pipeline\n",
    "from sklearn.preprocessing import MinMaxScaler\n",
    "from sklearn.cross_validation import StratifiedKFold, cross_val_score\n",
    "import time\n",
    "%matplotlib inline  \n",
    "\n",
    "\n",
    "def run_nn_cv(X, y,n_iter=1, units=300, cv=3):\n",
    "    start = time.time()\n",
    "#     print X.shape[1]\n",
    "    features = X.shape[1]\n",
    "    pipeline = Pipeline([\n",
    "            ('min/max scaler', MinMaxScaler(feature_range=(0.0, 1.0))),\n",
    "            ('neural network', Classifier(layers=[Layer(\"Rectifier\", units=units),\n",
    "                                                  Layer(\"Rectifier\", units=units),\n",
    "                                                  Layer('Softmax')],\n",
    "                                         n_iter=n_iter))\n",
    "            \n",
    "        ])\n",
    "    cv = cross_val_score(pipeline, X, y,cv=cv , n_jobs=-1)\n",
    "    out = {'cv': cv, 'time': time.time()- start}\n",
    "    print(out)\n",
    "    return out"
   ]
  },
  {
   "cell_type": "code",
   "execution_count": 136,
   "metadata": {
    "collapsed": false
   },
   "outputs": [],
   "source": [
    "import sklearn\n",
    "import urllib\n",
    "import numpy as np\n",
    "\n",
    "data_url = \"https://archive.ics.uci.edu/ml/machine-learning-databases/dermatology/dermatology.data\"\n",
    "\n",
    "raw_data = urllib.urlopen(data_url)\n",
    "\n",
    "raw_data?\n",
    "\n",
    "\n",
    "dataset = np.genfromtxt(raw_data, delimiter=\",\")\n"
   ]
  },
  {
   "cell_type": "code",
   "execution_count": 16,
   "metadata": {
    "collapsed": false
   },
   "outputs": [
    {
     "data": {
      "text/plain": [
       "array([[  2.,   2.,   0., ...,   0.,  55.,   2.],\n",
       "       [  3.,   3.,   3., ...,   0.,   8.,   1.],\n",
       "       [  2.,   1.,   2., ...,   3.,  26.,   3.],\n",
       "       ..., \n",
       "       [  3.,   2.,   2., ...,   3.,  28.,   3.],\n",
       "       [  2.,   1.,   3., ...,   3.,  50.,   3.],\n",
       "       [  3.,   2.,   2., ...,   0.,  35.,   1.]])"
      ]
     },
     "execution_count": 16,
     "metadata": {},
     "output_type": "execute_result"
    }
   ],
   "source": [
    "dataset"
   ]
  },
  {
   "cell_type": "code",
   "execution_count": 17,
   "metadata": {
    "collapsed": false
   },
   "outputs": [
    {
     "data": {
      "text/plain": [
       "(366, 35)"
      ]
     },
     "execution_count": 17,
     "metadata": {},
     "output_type": "execute_result"
    }
   ],
   "source": [
    "dataset.shape\n"
   ]
  },
  {
   "cell_type": "code",
   "execution_count": 18,
   "metadata": {
    "collapsed": false
   },
   "outputs": [
    {
     "data": {
      "text/plain": [
       "array([  2.,   1.,   1.,   1.,   0.,   0.,   0.,   0.,   0.,   0.,   0.,\n",
       "         0.,   0.,   1.,   0.,   3.,   2.,   1.,   0.,   0.,   0.,   0.,\n",
       "         2.,   0.,   0.,   0.,   0.,   2.,   0.,   0.,   0.,   1.,   0.,\n",
       "        15.,   2.])"
      ]
     },
     "execution_count": 18,
     "metadata": {},
     "output_type": "execute_result"
    }
   ],
   "source": [
    "dataset[37]"
   ]
  },
  {
   "cell_type": "code",
   "execution_count": 19,
   "metadata": {
    "collapsed": false
   },
   "outputs": [],
   "source": [
    "from sklearn.preprocessing import Imputer\n",
    "\n",
    "\n",
    "dataset_missing_fixed = Imputer().fit_transform(dataset)"
   ]
  },
  {
   "cell_type": "code",
   "execution_count": 20,
   "metadata": {
    "collapsed": true
   },
   "outputs": [],
   "source": [
    "raw_x = dataset_missing_fixed [:,0:-1]\n",
    "raw_y = dataset_missing_fixed [:,-1]"
   ]
  },
  {
   "cell_type": "code",
   "execution_count": 21,
   "metadata": {
    "collapsed": false
   },
   "outputs": [
    {
     "data": {
      "text/plain": [
       "array([[  2.,   2.,   0., ...,   1.,   0.,  55.],\n",
       "       [  3.,   3.,   3., ...,   1.,   0.,   8.],\n",
       "       [  2.,   1.,   2., ...,   2.,   3.,  26.],\n",
       "       ..., \n",
       "       [  3.,   2.,   2., ...,   2.,   3.,  28.],\n",
       "       [  2.,   1.,   3., ...,   2.,   3.,  50.],\n",
       "       [  3.,   2.,   2., ...,   3.,   0.,  35.]])"
      ]
     },
     "execution_count": 21,
     "metadata": {},
     "output_type": "execute_result"
    }
   ],
   "source": [
    "raw_x"
   ]
  },
  {
   "cell_type": "code",
   "execution_count": 22,
   "metadata": {
    "collapsed": false
   },
   "outputs": [
    {
     "data": {
      "text/plain": [
       "array([2, 1, 3, 1, 3, 2, 5, 3, 4, 4, 1, 2, 2, 1, 3, 4, 2, 1, 3, 5, 6, 2, 5,\n",
       "       3, 5, 1, 6, 5, 2, 3, 1, 2, 1, 1, 4, 2, 3, 2, 3, 1, 2, 4, 1, 2, 5, 3,\n",
       "       4, 6, 2, 3, 3, 4, 1, 1, 5, 1, 2, 3, 4, 2, 6, 1, 5, 1, 2, 3, 1, 4, 5,\n",
       "       1, 2, 6, 3, 5, 4, 2, 2, 1, 3, 5, 1, 2, 2, 2, 5, 1, 1, 3, 1, 4, 2, 2,\n",
       "       5, 1, 3, 4, 2, 5, 1, 6, 2, 5, 1, 2, 2, 1, 4, 1, 3, 1, 1, 3, 5, 3, 3,\n",
       "       5, 2, 3, 4, 1, 2, 5, 6, 1, 1, 2, 6, 3, 5, 4, 1, 1, 3, 5, 5, 1, 4, 2,\n",
       "       3, 1, 2, 1, 1, 3, 3, 3, 2, 5, 4, 2, 2, 1, 1, 1, 5, 3, 2, 3, 2, 2, 4,\n",
       "       2, 3, 6, 2, 1, 1, 3, 4, 3, 3, 1, 1, 1, 3, 1, 1, 2, 3, 3, 1, 1, 1, 1,\n",
       "       6, 2, 2, 2, 2, 1, 3, 3, 3, 1, 1, 2, 3, 2, 2, 2, 5, 5, 5, 5, 5, 1, 1,\n",
       "       1, 1, 1, 1, 1, 3, 3, 3, 3, 3, 3, 4, 4, 4, 4, 5, 5, 5, 5, 5, 5, 5, 2,\n",
       "       2, 2, 2, 1, 1, 1, 1, 1, 1, 6, 6, 1, 1, 1, 1, 1, 1, 1, 1, 3, 3, 3, 3,\n",
       "       3, 3, 3, 4, 4, 4, 4, 4, 4, 5, 5, 5, 5, 6, 6, 6, 4, 4, 4, 1, 1, 1, 1,\n",
       "       1, 2, 2, 4, 4, 4, 1, 1, 2, 2, 2, 3, 3, 3, 3, 1, 1, 1, 1, 5, 5, 5, 5,\n",
       "       5, 3, 3, 3, 4, 1, 1, 4, 4, 4, 1, 1, 1, 3, 3, 3, 3, 3, 1, 1, 1, 1, 4,\n",
       "       4, 1, 1, 4, 3, 3, 4, 1, 1, 4, 4, 5, 5, 1, 1, 5, 5, 3, 1, 5, 5, 6, 6,\n",
       "       4, 4, 6, 6, 6, 1, 1, 1, 5, 5, 1, 1, 1, 1, 2, 2, 4, 4, 3, 3, 1])"
      ]
     },
     "execution_count": 22,
     "metadata": {},
     "output_type": "execute_result"
    }
   ],
   "source": [
    "all_class = raw_y.astype(int)\n",
    "all_class"
   ]
  },
  {
   "cell_type": "code",
   "execution_count": 23,
   "metadata": {
    "collapsed": false
   },
   "outputs": [
    {
     "data": {
      "text/plain": [
       "array([[ 0.66666667,  0.66666667,  0.        , ...,  0.33333333,\n",
       "         0.        ,  0.73333333],\n",
       "       [ 1.        ,  1.        ,  1.        , ...,  0.33333333,\n",
       "         0.        ,  0.10666667],\n",
       "       [ 0.66666667,  0.33333333,  0.66666667, ...,  0.66666667,\n",
       "         1.        ,  0.34666667],\n",
       "       ..., \n",
       "       [ 1.        ,  0.66666667,  0.66666667, ...,  0.66666667,\n",
       "         1.        ,  0.37333333],\n",
       "       [ 0.66666667,  0.33333333,  1.        , ...,  0.66666667,\n",
       "         1.        ,  0.66666667],\n",
       "       [ 1.        ,  0.66666667,  0.66666667, ...,  1.        ,\n",
       "         0.        ,  0.46666667]])"
      ]
     },
     "execution_count": 23,
     "metadata": {},
     "output_type": "execute_result"
    }
   ],
   "source": [
    "from sklearn.preprocessing import MinMaxScaler\n",
    "min_max_scaler = MinMaxScaler()\n",
    "\n",
    "all_inputs = min_max_scaler.fit_transform(raw_x)\n",
    "all_inputs"
   ]
  },
  {
   "cell_type": "code",
   "execution_count": 24,
   "metadata": {
    "collapsed": false
   },
   "outputs": [],
   "source": [
    "from sklearn.cross_validation import train_test_split\n",
    "\n",
    "(train_X,\n",
    "test_X,\n",
    "train_Y,\n",
    "test_Y ) = train_test_split(all_inputs, all_class)\n"
   ]
  },
  {
   "cell_type": "markdown",
   "metadata": {},
   "source": [
    "## KMeans"
   ]
  },
  {
   "cell_type": "code",
   "execution_count": 25,
   "metadata": {
    "collapsed": false
   },
   "outputs": [
    {
     "name": "stdout",
     "output_type": "stream",
     "text": [
      "CPU times: user 0 ns, sys: 252 ms, total: 252 ms\n",
      "Wall time: 807 ms\n"
     ]
    }
   ],
   "source": [
    "from sklearn.cluster import KMeans\n",
    "\n",
    "k_means = KMeans(n_clusters=10, n_jobs=16)\n",
    "\n",
    "%time k_means.fit(train_X)\n",
    "raw_k_means_labels = k_means.labels_\n",
    "k_means_cluster_centers = k_means.cluster_centers_\n",
    "k_means_labels_unique = np.unique(raw_k_means_labels)\n"
   ]
  },
  {
   "cell_type": "code",
   "execution_count": 26,
   "metadata": {
    "collapsed": false
   },
   "outputs": [
    {
     "name": "stdout",
     "output_type": "stream",
     "text": [
      "[2 6 8 2 9 3 5 7 6 4 2 8 3 2 3 7 0 5 0 9 1 3 2 9 6 4 3 3 3 6 3 9 6 9 6 9 6\n",
      " 2 1 5 8 2 5 3 2 3 4 7 7 8 2 9 2 1 9 6 1 3 3 7 1 3 6 3 9 1 8 2 3 6 3 7 0 2\n",
      " 5 3 1 1 1 1 3 0 1 2 6 5 1 8 0 1 2 9 4 1 3 6 7 9 2 9 9 5 7 2 5 1 9 4 8 0 1\n",
      " 9 3 9 3 7 0 6 8 3 9 9 8 1 3 5 1 5 9 0 2 2 9 8 9 8 3 9 5 3 2 9 7 3 8 0 9 1\n",
      " 6 5 2 2 9 3 1 4 2 9 8 5 0 4 5 0 7 9 2 2 3 4 9 6 9 7 9 2 9 2 3 7 3 3 5 6 3\n",
      " 0 6 2 1 4 2 3 4 5 1 0 1 5 9 2 5 3 9 3 6 9 1 4 2 6 2 2 9 2 5 1 6 8 9 5 5 0\n",
      " 1 2 2 9 2 1 2 1 1 9 6 9 3 5 5 1 9 5 1 8 5 3 9 9 5 2 6 9 5 0 9 3 1 2 7 8 4\n",
      " 1 7 1 8 1 6 0 8 9 2 7 0 9 1 5]\n",
      "[0 1 2 3 4 5 6 7 8 9]\n"
     ]
    }
   ],
   "source": [
    "print raw_k_means_labels\n",
    "print k_means_labels_unique"
   ]
  },
  {
   "cell_type": "markdown",
   "metadata": {},
   "source": [
    "### Maximum likelyhood\n"
   ]
  },
  {
   "cell_type": "code",
   "execution_count": 27,
   "metadata": {
    "collapsed": false
   },
   "outputs": [
    {
     "name": "stdout",
     "output_type": "stream",
     "text": [
      "CPU times: user 40 ms, sys: 220 ms, total: 260 ms\n",
      "Wall time: 66.8 ms\n"
     ]
    },
    {
     "data": {
      "text/plain": [
       "GMM(covariance_type='diag', init_params='wmc', min_covar=0.001,\n",
       "  n_components=10, n_init=1, n_iter=100, params='wmc', random_state=None,\n",
       "  thresh=None, tol=0.001, verbose=0)"
      ]
     },
     "execution_count": 27,
     "metadata": {},
     "output_type": "execute_result"
    }
   ],
   "source": [
    "from sklearn.mixture import GMM\n",
    "\n",
    "max_likelyhood = GMM(n_components=10)\n",
    "\n",
    "%time max_likelyhood.fit(train_X)\n"
   ]
  },
  {
   "cell_type": "code",
   "execution_count": 28,
   "metadata": {
    "collapsed": false
   },
   "outputs": [
    {
     "data": {
      "text/plain": [
       "array([1, 9, 2, 1, 6, 4, 0, 7, 9, 5, 1, 2, 4, 1, 4, 7, 3, 5, 3, 6, 8, 4, 1,\n",
       "       6, 9, 5, 4, 4, 4, 9, 4, 6, 9, 6, 9, 6, 9, 1, 8, 5, 2, 1, 0, 4, 1, 4,\n",
       "       5, 7, 7, 2, 1, 6, 1, 2, 6, 9, 8, 4, 4, 7, 8, 4, 9, 4, 6, 2, 2, 1, 4,\n",
       "       9, 4, 7, 3, 1, 5, 4, 8, 8, 8, 8, 4, 0, 8, 1, 9, 5, 8, 2, 3, 8, 1, 6,\n",
       "       5, 8, 4, 9, 7, 6, 1, 6, 6, 5, 7, 1, 5, 8, 6, 5, 2, 3, 8, 6, 4, 6, 4,\n",
       "       7, 3, 9, 2, 4, 6, 6, 2, 8, 4, 5, 8, 0, 6, 3, 1, 1, 6, 2, 6, 2, 4, 6,\n",
       "       5, 4, 1, 6, 7, 6, 2, 3, 6, 8, 9, 5, 1, 1, 6, 4, 8, 5, 1, 6, 2, 0, 3,\n",
       "       5, 5, 3, 7, 6, 1, 1, 4, 5, 6, 9, 6, 7, 6, 1, 6, 1, 4, 7, 6, 4, 0, 9,\n",
       "       4, 5, 9, 1, 8, 5, 1, 4, 5, 5, 8, 0, 8, 5, 6, 1, 0, 4, 6, 4, 9, 4, 8,\n",
       "       5, 1, 9, 1, 1, 6, 1, 5, 8, 9, 2, 6, 5, 5, 3, 8, 1, 1, 6, 1, 8, 1, 8,\n",
       "       8, 6, 9, 6, 6, 5, 0, 8, 6, 5, 8, 2, 5, 4, 6, 6, 5, 1, 9, 4, 5, 3, 4,\n",
       "       4, 8, 1, 7, 2, 5, 8, 7, 8, 2, 8, 9, 3, 2, 6, 1, 7, 3, 6, 8, 5])"
      ]
     },
     "execution_count": 28,
     "metadata": {},
     "output_type": "execute_result"
    }
   ],
   "source": [
    "maxlikelyhood_train_X = max_likelyhood.predict(train_X)\n",
    "maxlikelyhood_train_X"
   ]
  },
  {
   "cell_type": "markdown",
   "metadata": {},
   "source": [
    "## PCA"
   ]
  },
  {
   "cell_type": "code",
   "execution_count": 29,
   "metadata": {
    "collapsed": false
   },
   "outputs": [
    {
     "name": "stdout",
     "output_type": "stream",
     "text": [
      "[ 0.32111509  0.17782562  0.07459792  0.05003953  0.04208249  0.0342017\n",
      "  0.03047999  0.02622912  0.02330899  0.02240744]\n"
     ]
    }
   ],
   "source": [
    "from sklearn.decomposition import PCA\n",
    "\n",
    "pca = PCA(n_components=10)\n",
    "\n",
    "pca.fit(train_X)\n",
    "print(pca.explained_variance_ratio_)"
   ]
  },
  {
   "cell_type": "code",
   "execution_count": 30,
   "metadata": {
    "collapsed": false
   },
   "outputs": [
    {
     "data": {
      "text/plain": [
       "array([  4.2924095 ,  -0.81764904,  10.16261121,   9.1639561 ,\n",
       "        14.33657038,  -4.60032773,  -1.09705958,  -4.58204982,\n",
       "         5.7318787 ,  -1.15353902,   9.94168738,  12.48028913,\n",
       "        -2.8184472 ,  11.81522255,   2.80633448,   6.09155671,\n",
       "        10.3944056 ,   5.57515948,   3.56024038,   9.12497264,\n",
       "        11.53243275,  14.4911355 ,   8.83305195,   8.48954767,\n",
       "         7.78376004,   6.72548951,  11.42769522,   9.66112736,\n",
       "        18.37626726,  11.91438093,  12.57070839,  15.68067558,\n",
       "         3.75749927,  17.49599828, -24.19960202,  -0.81391839,\n",
       "         7.07028581,  13.38144362,  11.83364953,  -4.97337179,\n",
       "         1.39423639,   6.52669946,   3.28905658,   5.02239571,\n",
       "         3.29431731,  13.87879275, -12.40889447,  -2.63240834,\n",
       "         8.42116916,   1.71752248,   9.39894238,  15.71630909,\n",
       "         4.99845841,   6.63140055,   7.76913684,   0.71617145,\n",
       "         5.48163846,   5.68264161,  -1.81741524,  10.24392484,\n",
       "         4.09561675,   5.76959635, -12.20360174,  11.02707939,\n",
       "        14.93814085,   4.61427686,  12.29505375,  11.19490466,\n",
       "         8.4341473 ,   0.94851475,  14.05262312,  -2.32449227,\n",
       "        -0.16405032,  11.90449017,   9.31118351,   1.64406573,\n",
       "        10.79166914,  13.39793251,  -8.0664814 ,  13.70377807,\n",
       "        10.13813547, -10.64347663,   6.26471453,   7.03689759,\n",
       "       -10.65052444,   4.44839066,  -1.61101268,  -2.30284721,\n",
       "        -4.46188514,  10.92534212,  12.77284974,   5.96506996,\n",
       "        -6.16823085, -14.73350412,   8.59057724,   2.24366499,\n",
       "         0.59087704,   9.80337282,  12.03653886,  11.51476382,\n",
       "        12.34611484,  10.41322961,   5.65849968,  14.63741897,\n",
       "         7.13437296,  -7.03222367,  14.55879408,   1.30966809,\n",
       "        -0.55291088,   8.53104836,   6.53888442,  18.84878422,\n",
       "        13.27498329,  15.45105963,  11.06566065,   4.96334155,\n",
       "         3.26865382,   6.00120961,   7.86656234,  12.79758678,\n",
       "        17.99045693,   8.8585415 ,   2.32125037,   1.23938146,\n",
       "        10.15440038,   3.72015656,   1.82308815,  -2.78970407,\n",
       "        12.92943456,  -2.11626113,   2.04684642,  17.09759576,\n",
       "        12.0913343 ,   3.62757779,  13.68999899,  11.58392353,\n",
       "        14.69418009,  16.60795852,  10.58884381,  13.36382644,\n",
       "         8.14851198,  10.9272821 ,   3.32615339,  17.17993336,\n",
       "         7.04416155,   9.1477827 ,   4.70524777,  13.48211076,\n",
       "         1.49644942, -11.9572737 ,  10.32948148,  12.61614862,\n",
       "        18.22596192,  12.00970794,  15.17708096, -11.88003903,\n",
       "        11.05726007,  16.32338109, -31.5715758 ,  -4.05081999,\n",
       "         7.19574938,  -0.14225546,   6.60656794,  -2.72574733,\n",
       "        14.58204233,  15.836957  ,  -0.22956083,  11.84059377,\n",
       "         3.33844842,   5.46525482,  10.80290034,   7.96718266,\n",
       "        10.06301678,  12.79581535,  11.82986146,   8.93197682,\n",
       "        16.5638484 ,  13.06271563,   7.0704516 ,   0.76668776,\n",
       "         8.76578338,   9.95418466,  -2.37002643,   6.55541247,\n",
       "         8.65055521,  -3.86662468,   6.97250457,   8.92890069,\n",
       "        11.0121314 ,   2.54223941,  13.52814714,   6.96674745,\n",
       "        -6.13626141,   7.92253056,  14.55018692,  -3.45101239,\n",
       "       -20.40504608,   0.92616229,  12.12321757,  15.16359047,\n",
       "         8.29141827,  17.77049484,  14.58514045,  -0.31364327,\n",
       "         5.54961494,  11.50588782,   5.60163672,   0.09123992,\n",
       "        14.03231938,   6.33866847,  13.74361431,   9.98239564,\n",
       "        11.31037143,   2.30785479,   7.01827096,   2.12553965,\n",
       "         3.75545433,  -1.19958212,  14.76959311,   6.65556933,\n",
       "        10.63325571,   6.67654349,   0.21934447,  11.96095239,\n",
       "         3.46391973,  13.8884504 ,  11.15524012,   8.91376633,\n",
       "         9.18865655,   3.55217526,   9.37852162,  10.28572382,\n",
       "         7.66886088,   9.70566063,  13.46423539,   5.6130277 ,\n",
       "        -1.78553277,  11.98503403,  13.45144194,  14.42121244,\n",
       "        -0.27515884,   9.31476289,   9.8645567 ,  14.52497982,\n",
       "         5.44232396,  18.1054038 ,   8.80757594,   6.12306733,\n",
       "         4.57931765,   4.57384493,   9.27254616,  -4.34329632,\n",
       "        15.35876414,   2.04019572, -11.12744655,   7.66832013,\n",
       "         9.33628091,   8.43838521,   4.69022283,  12.08298039,\n",
       "         0.65477063,  11.95626903,   9.7766911 ,  -2.53853115,\n",
       "         1.35603871,   0.23543983,   9.25316782,  12.83897351,\n",
       "        11.17414281,  -5.78317044,  -9.67493033,  14.71430071,\n",
       "         9.5421359 ,   2.64989178])"
      ]
     },
     "execution_count": 30,
     "metadata": {},
     "output_type": "execute_result"
    }
   ],
   "source": [
    "pca.score_samples(train_X)"
   ]
  },
  {
   "cell_type": "code",
   "execution_count": 31,
   "metadata": {
    "collapsed": false
   },
   "outputs": [
    {
     "data": {
      "text/plain": [
       "(274, 10)"
      ]
     },
     "execution_count": 31,
     "metadata": {},
     "output_type": "execute_result"
    }
   ],
   "source": [
    "train_x_pca = pca.transform(train_X)\n",
    "test_x_pca = pca.transform(test_X)\n",
    "train_x_pca.shape"
   ]
  },
  {
   "cell_type": "markdown",
   "metadata": {},
   "source": [
    "### FastICA"
   ]
  },
  {
   "cell_type": "code",
   "execution_count": 32,
   "metadata": {
    "collapsed": false
   },
   "outputs": [
    {
     "name": "stdout",
     "output_type": "stream",
     "text": [
      "CPU times: user 156 ms, sys: 624 ms, total: 780 ms\n",
      "Wall time: 159 ms\n"
     ]
    }
   ],
   "source": [
    "from sklearn.decomposition import FastICA\n",
    "\n",
    "fast_ica = FastICA(n_components=10)\n",
    "%time fast_ica.fit(train_X, train_Y)\n",
    "train_x_ica = fast_ica.transform(train_X)\n",
    "test_x_ica = fast_ica.transform(test_X)"
   ]
  },
  {
   "cell_type": "code",
   "execution_count": 33,
   "metadata": {
    "collapsed": false
   },
   "outputs": [
    {
     "data": {
      "text/plain": [
       "(274, 10)"
      ]
     },
     "execution_count": 33,
     "metadata": {},
     "output_type": "execute_result"
    }
   ],
   "source": [
    "train_x_ica.shape"
   ]
  },
  {
   "cell_type": "markdown",
   "metadata": {},
   "source": [
    "### Random Projection"
   ]
  },
  {
   "cell_type": "code",
   "execution_count": 34,
   "metadata": {
    "collapsed": false
   },
   "outputs": [
    {
     "name": "stdout",
     "output_type": "stream",
     "text": [
      "CPU times: user 0 ns, sys: 0 ns, total: 0 ns\n",
      "Wall time: 555 µs\n",
      "CPU times: user 4 ms, sys: 0 ns, total: 4 ms\n",
      "Wall time: 146 µs\n",
      "CPU times: user 0 ns, sys: 0 ns, total: 0 ns\n",
      "Wall time: 124 µs\n"
     ]
    }
   ],
   "source": [
    "from sklearn.random_projection import GaussianRandomProjection\n",
    "\n",
    "random_projection = GaussianRandomProjection(n_components=10)\n",
    "\n",
    "%time random_projection.fit(train_X)\n",
    "%time train_x_rand = random_projection.transform(train_X)\n",
    "%time test_x_rand = random_projection.transform(test_X)"
   ]
  },
  {
   "cell_type": "markdown",
   "metadata": {},
   "source": [
    "### SelectKBest"
   ]
  },
  {
   "cell_type": "code",
   "execution_count": 35,
   "metadata": {
    "collapsed": false
   },
   "outputs": [
    {
     "name": "stdout",
     "output_type": "stream",
     "text": [
      "CPU times: user 4 ms, sys: 0 ns, total: 4 ms\n",
      "Wall time: 157 ms\n",
      "CPU times: user 0 ns, sys: 0 ns, total: 0 ns\n",
      "Wall time: 180 µs\n",
      "CPU times: user 0 ns, sys: 0 ns, total: 0 ns\n",
      "Wall time: 164 µs\n"
     ]
    }
   ],
   "source": [
    "from sklearn.feature_selection import SelectKBest\n",
    "select_k_best = SelectKBest()\n",
    "%time select_k_best.fit(train_X, train_Y)\n",
    "%time train_x_10best = select_k_best.transform(train_X)\n",
    "%time test_x_10best = select_k_best.transform(test_X)"
   ]
  },
  {
   "cell_type": "markdown",
   "metadata": {},
   "source": [
    "### Clustering"
   ]
  },
  {
   "cell_type": "code",
   "execution_count": 40,
   "metadata": {
    "collapsed": true
   },
   "outputs": [],
   "source": []
  },
  {
   "cell_type": "code",
   "execution_count": 137,
   "metadata": {
    "collapsed": false
   },
   "outputs": [
    {
     "name": "stdout",
     "output_type": "stream",
     "text": [
      "{'model': KMeans(copy_x=True, init='k-means++', max_iter=300, n_clusters=6, n_init=10,\n",
      "    n_jobs=8, precompute_distances='auto', random_state=None, tol=0.0001,\n",
      "    verbose=0), 'prediction': array([1, 2, 3, 1, 0, 0, 5, 4, 2, 2, 1, 3, 0, 1, 0, 4, 2, 5, 2, 0, 3, 0, 1,\n",
      "       0, 5, 5, 0, 0, 0, 2, 0, 0, 5, 0, 2, 0, 2, 1, 3, 5, 3, 1, 5, 0, 1, 0,\n",
      "       2, 4, 4, 3, 1, 0, 1, 3, 0, 5, 3, 0, 0, 4, 3, 0, 5, 0, 0, 3, 3, 1, 0,\n",
      "       2, 0, 4, 2, 1, 5, 0, 3, 3, 3, 3, 0, 5, 3, 1, 2, 5, 3, 3, 2, 3, 1, 0,\n",
      "       5, 3, 0, 2, 4, 0, 1, 0, 0, 5, 4, 1, 5, 3, 0, 5, 3, 2, 3, 0, 0, 0, 0,\n",
      "       4, 2, 5, 3, 0, 0, 0, 3, 3, 0, 5, 3, 5, 0, 2, 1, 1, 0, 3, 0, 3, 0, 0,\n",
      "       5, 0, 1, 0, 4, 0, 3, 2, 0, 3, 5, 2, 1, 1, 0, 0, 3, 2, 1, 0, 3, 5, 2,\n",
      "       2, 5, 2, 4, 0, 1, 1, 0, 5, 0, 2, 0, 4, 0, 1, 0, 1, 0, 4, 0, 0, 5, 5,\n",
      "       0, 2, 2, 1, 3, 5, 1, 0, 2, 2, 3, 5, 3, 2, 0, 1, 5, 0, 0, 0, 5, 0, 3,\n",
      "       5, 1, 2, 1, 1, 0, 1, 5, 3, 2, 3, 0, 5, 5, 5, 3, 1, 1, 0, 1, 3, 1, 3,\n",
      "       3, 0, 5, 0, 0, 5, 5, 3, 0, 5, 3, 3, 5, 0, 0, 0, 5, 1, 2, 0, 5, 2, 0,\n",
      "       0, 3, 1, 4, 3, 5, 3, 4, 3, 3, 3, 2, 2, 3, 0, 1, 4, 2, 0, 3, 2], dtype=int32), 'time': 0.4005391597747803}\n",
      "{'model': KMeans(copy_x=True, init='k-means++', max_iter=300, n_clusters=6, n_init=10,\n",
      "    n_jobs=8, precompute_distances='auto', random_state=None, tol=0.0001,\n",
      "    verbose=0), 'prediction': array([5, 3, 2, 5, 4, 4, 0, 1, 3, 0, 5, 2, 4, 5, 4, 1, 0, 0, 0, 4, 2, 4, 5,\n",
      "       4, 3, 0, 4, 4, 4, 3, 4, 4, 3, 4, 3, 4, 3, 5, 2, 0, 2, 5, 0, 4, 5, 4,\n",
      "       0, 1, 1, 2, 5, 4, 5, 2, 4, 3, 2, 4, 4, 1, 2, 4, 3, 4, 4, 2, 2, 5, 4,\n",
      "       3, 4, 1, 0, 5, 0, 4, 2, 2, 2, 2, 4, 0, 2, 5, 3, 0, 2, 2, 0, 2, 5, 4,\n",
      "       0, 2, 4, 3, 1, 4, 5, 4, 4, 0, 1, 5, 0, 2, 4, 0, 2, 0, 2, 4, 4, 4, 4,\n",
      "       1, 0, 3, 2, 4, 4, 4, 2, 2, 4, 0, 2, 0, 4, 0, 5, 5, 4, 2, 4, 2, 4, 4,\n",
      "       0, 4, 5, 4, 1, 4, 2, 0, 4, 2, 3, 0, 5, 5, 4, 4, 2, 0, 5, 4, 2, 0, 0,\n",
      "       0, 0, 0, 1, 4, 5, 5, 4, 0, 4, 3, 4, 1, 4, 5, 4, 5, 4, 1, 4, 4, 0, 3,\n",
      "       4, 0, 3, 5, 2, 0, 5, 4, 0, 0, 2, 0, 2, 0, 4, 5, 0, 4, 4, 4, 3, 4, 2,\n",
      "       0, 5, 3, 5, 5, 4, 5, 0, 2, 3, 2, 4, 0, 0, 0, 2, 5, 5, 4, 5, 2, 5, 2,\n",
      "       2, 4, 3, 4, 4, 0, 0, 2, 4, 0, 2, 2, 0, 4, 4, 4, 0, 5, 3, 4, 0, 0, 4,\n",
      "       4, 2, 5, 1, 2, 0, 2, 1, 2, 2, 2, 3, 0, 2, 4, 5, 1, 0, 4, 2, 0], dtype=int32), 'time': 0.22417616844177246}\n",
      "{'model': KMeans(copy_x=True, init='k-means++', max_iter=300, n_clusters=6, n_init=10,\n",
      "    n_jobs=8, precompute_distances='auto', random_state=None, tol=0.0001,\n",
      "    verbose=0), 'prediction': array([4, 5, 1, 4, 0, 0, 2, 3, 5, 2, 4, 1, 0, 4, 0, 3, 2, 2, 2, 0, 1, 0, 4,\n",
      "       0, 5, 2, 0, 0, 0, 5, 0, 0, 5, 0, 5, 0, 5, 4, 1, 2, 1, 4, 2, 0, 4, 0,\n",
      "       2, 3, 3, 1, 4, 0, 4, 1, 0, 5, 1, 5, 0, 3, 1, 0, 5, 0, 0, 1, 1, 4, 0,\n",
      "       5, 0, 3, 2, 4, 2, 5, 1, 1, 1, 1, 0, 2, 1, 4, 5, 2, 1, 1, 2, 1, 4, 0,\n",
      "       2, 1, 0, 5, 3, 0, 4, 0, 0, 2, 3, 4, 2, 1, 0, 2, 1, 2, 1, 0, 0, 0, 0,\n",
      "       3, 2, 5, 1, 0, 0, 0, 1, 5, 0, 2, 1, 2, 0, 2, 4, 4, 0, 1, 0, 1, 0, 0,\n",
      "       2, 0, 4, 0, 3, 0, 1, 2, 0, 1, 5, 2, 4, 4, 0, 0, 1, 2, 4, 0, 0, 2, 2,\n",
      "       2, 2, 2, 3, 0, 4, 4, 0, 2, 0, 5, 0, 3, 0, 4, 0, 4, 0, 3, 0, 0, 2, 5,\n",
      "       0, 2, 5, 4, 1, 2, 4, 0, 2, 2, 1, 2, 1, 2, 0, 4, 2, 0, 0, 0, 5, 0, 1,\n",
      "       2, 4, 5, 4, 4, 0, 4, 2, 1, 5, 1, 0, 2, 2, 2, 1, 4, 4, 0, 4, 1, 4, 1,\n",
      "       1, 0, 5, 0, 0, 2, 2, 1, 0, 2, 1, 1, 2, 0, 0, 0, 2, 4, 5, 0, 2, 2, 0,\n",
      "       0, 1, 4, 3, 1, 2, 1, 3, 1, 1, 1, 5, 2, 1, 0, 4, 3, 0, 0, 1, 2], dtype=int32), 'time': 0.22861480712890625}\n",
      "{'model': KMeans(copy_x=True, init='k-means++', max_iter=300, n_clusters=6, n_init=10,\n",
      "    n_jobs=8, precompute_distances='auto', random_state=None, tol=0.0001,\n",
      "    verbose=0), 'prediction': array([3, 2, 5, 3, 4, 0, 2, 3, 1, 1, 3, 5, 0, 3, 0, 0, 1, 2, 3, 4, 5, 4, 3,\n",
      "       0, 2, 1, 4, 4, 4, 1, 4, 4, 1, 4, 1, 4, 2, 3, 5, 2, 5, 3, 2, 0, 3, 0,\n",
      "       1, 0, 0, 5, 3, 4, 3, 5, 4, 2, 5, 0, 0, 0, 1, 4, 2, 0, 0, 5, 5, 3, 4,\n",
      "       1, 4, 0, 1, 3, 1, 0, 5, 5, 5, 5, 0, 1, 5, 3, 2, 2, 5, 5, 1, 5, 3, 4,\n",
      "       1, 5, 4, 1, 0, 4, 3, 4, 4, 2, 0, 3, 2, 1, 4, 1, 5, 2, 5, 4, 4, 4, 4,\n",
      "       0, 2, 1, 5, 4, 4, 4, 5, 5, 0, 2, 5, 2, 4, 1, 3, 3, 4, 5, 4, 5, 4, 4,\n",
      "       2, 4, 3, 0, 0, 4, 5, 1, 4, 5, 2, 1, 3, 3, 4, 0, 5, 1, 3, 4, 3, 2, 1,\n",
      "       1, 2, 1, 0, 4, 3, 3, 0, 1, 4, 1, 4, 0, 4, 3, 4, 3, 4, 0, 0, 0, 2, 2,\n",
      "       1, 2, 2, 3, 5, 1, 3, 4, 1, 2, 5, 2, 5, 2, 4, 3, 2, 4, 4, 0, 2, 0, 5,\n",
      "       1, 3, 2, 3, 3, 0, 3, 2, 5, 1, 5, 4, 2, 1, 2, 5, 3, 3, 4, 3, 5, 3, 5,\n",
      "       5, 4, 1, 0, 4, 2, 2, 5, 4, 2, 5, 5, 2, 4, 4, 4, 2, 3, 1, 4, 1, 1, 4,\n",
      "       4, 5, 0, 4, 5, 1, 5, 0, 5, 5, 5, 1, 2, 5, 0, 3, 0, 1, 0, 5, 1], dtype=int32), 'time': 0.2184460163116455}\n",
      "{'model': KMeans(copy_x=True, init='k-means++', max_iter=300, n_clusters=6, n_init=10,\n",
      "    n_jobs=8, precompute_distances='auto', random_state=None, tol=0.0001,\n",
      "    verbose=0), 'prediction': array([3, 2, 5, 3, 0, 0, 2, 4, 2, 0, 0, 5, 0, 3, 0, 4, 0, 2, 2, 0, 5, 0, 3,\n",
      "       0, 2, 2, 0, 0, 0, 2, 0, 0, 2, 0, 2, 0, 2, 3, 1, 2, 1, 0, 2, 0, 3, 0,\n",
      "       2, 4, 4, 1, 3, 0, 3, 5, 0, 2, 1, 0, 0, 4, 1, 0, 2, 0, 0, 1, 1, 3, 0,\n",
      "       2, 0, 4, 2, 3, 2, 0, 1, 1, 5, 5, 0, 2, 1, 3, 2, 2, 1, 1, 0, 1, 3, 0,\n",
      "       2, 1, 0, 2, 4, 0, 3, 0, 0, 2, 4, 0, 2, 1, 0, 2, 1, 0, 1, 0, 0, 0, 0,\n",
      "       4, 0, 2, 5, 0, 0, 0, 5, 1, 0, 2, 1, 2, 0, 0, 3, 3, 0, 5, 0, 1, 0, 0,\n",
      "       2, 0, 3, 0, 4, 0, 1, 0, 0, 1, 2, 2, 3, 3, 0, 0, 1, 2, 3, 0, 3, 2, 0,\n",
      "       0, 2, 2, 0, 0, 3, 0, 0, 2, 0, 2, 0, 0, 0, 3, 0, 3, 0, 0, 0, 0, 2, 2,\n",
      "       0, 2, 2, 3, 1, 2, 3, 0, 0, 2, 1, 2, 1, 2, 0, 3, 2, 0, 0, 0, 2, 0, 5,\n",
      "       2, 3, 2, 3, 3, 0, 3, 2, 5, 2, 1, 0, 2, 2, 0, 1, 0, 3, 0, 3, 5, 3, 1,\n",
      "       1, 0, 2, 0, 0, 2, 2, 1, 0, 2, 1, 1, 2, 0, 0, 0, 2, 0, 2, 0, 2, 2, 0,\n",
      "       0, 5, 3, 4, 5, 2, 1, 4, 1, 5, 1, 2, 2, 5, 0, 3, 4, 2, 0, 1, 2], dtype=int32), 'time': 0.2472519874572754}\n",
      "dataset\n",
      "[[ 0.66666667  0.          0.33333333 ...,  1.          0.          0.84      ]\n",
      " [ 0.66666667  1.          1.         ...,  0.66666667  0.          0.13333333]\n",
      " [ 1.          0.66666667  1.         ...,  0.66666667  1.          0.70666667]\n",
      " ..., \n",
      " [ 1.          0.66666667  0.33333333 ...,  0.66666667  0.          0.48      ]\n",
      " [ 1.          0.66666667  1.         ...,  0.66666667  1.          0.69333333]\n",
      " [ 0.66666667  0.66666667  1.         ...,  0.66666667  0.          0.36      ]]\n",
      "(274, 34)\n",
      "cluster\n",
      "[1 2 3 1 0 0 5 4 2 2 1 3 0 1 0 4 2 5 2 0 3 0 1 0 5 5 0 0 0 2 0 0 5 0 2 0 2\n",
      " 1 3 5 3 1 5 0 1 0 2 4 4 3 1 0 1 3 0 5 3 0 0 4 3 0 5 0 0 3 3 1 0 2 0 4 2 1\n",
      " 5 0 3 3 3 3 0 5 3 1 2 5 3 3 2 3 1 0 5 3 0 2 4 0 1 0 0 5 4 1 5 3 0 5 3 2 3\n",
      " 0 0 0 0 4 2 5 3 0 0 0 3 3 0 5 3 5 0 2 1 1 0 3 0 3 0 0 5 0 1 0 4 0 3 2 0 3\n",
      " 5 2 1 1 0 0 3 2 1 0 3 5 2 2 5 2 4 0 1 1 0 5 0 2 0 4 0 1 0 1 0 4 0 0 5 5 0\n",
      " 2 2 1 3 5 1 0 2 2 3 5 3 2 0 1 5 0 0 0 5 0 3 5 1 2 1 1 0 1 5 3 2 3 0 5 5 5\n",
      " 3 1 1 0 1 3 1 3 3 0 5 0 0 5 5 3 0 5 3 3 5 0 0 0 5 1 2 0 5 2 0 0 3 1 4 3 5\n",
      " 3 4 3 3 3 2 2 3 0 1 4 2 0 3 2]\n",
      "(274,)\n",
      "cluster-bin\n",
      "[[0 1 0 0 0 0]\n",
      " [0 0 1 0 0 0]\n",
      " [0 0 0 1 0 0]\n",
      " ..., \n",
      " [1 0 0 0 0 0]\n",
      " [0 0 0 1 0 0]\n",
      " [0 0 1 0 0 0]]\n",
      "(274, 6)\n",
      "output\n",
      "[[ 0.66666667  0.          0.33333333 ...,  0.          0.          0.        ]\n",
      " [ 0.66666667  1.          1.         ...,  0.          0.          0.        ]\n",
      " [ 1.          0.66666667  1.         ...,  1.          0.          0.        ]\n",
      " ..., \n",
      " [ 1.          0.66666667  0.33333333 ...,  0.          0.          0.        ]\n",
      " [ 1.          0.66666667  1.         ...,  1.          0.          0.        ]\n",
      " [ 0.66666667  0.66666667  1.         ...,  0.          0.          0.        ]]\n",
      "(274, 40)\n",
      "dataset\n",
      "[[ 0.0741286   0.37448835 -1.16992775 ...,  0.02630622 -0.43569765\n",
      "  -0.02664452]\n",
      " [ 1.15973798 -0.56594308  0.34310091 ..., -0.52872103  0.15004269\n",
      "   0.15854247]\n",
      " [-1.56537184 -0.80343421  0.23138195 ..., -0.12009001  0.26650245\n",
      "  -0.13818527]\n",
      " ..., \n",
      " [-0.09361559  0.64929709  0.33955036 ..., -0.17194198  0.0231158\n",
      "  -0.28679421]\n",
      " [-1.49105149 -0.94440756 -0.08819102 ..., -0.09355793  0.23036916\n",
      "  -0.07320185]\n",
      " [ 1.14021429 -0.60034343 -0.09984099 ...,  0.18013786  0.32087148\n",
      "   0.22723052]]\n",
      "(274, 10)\n",
      "cluster\n",
      "[5 3 2 5 4 4 0 1 3 0 5 2 4 5 4 1 0 0 0 4 2 4 5 4 3 0 4 4 4 3 4 4 3 4 3 4 3\n",
      " 5 2 0 2 5 0 4 5 4 0 1 1 2 5 4 5 2 4 3 2 4 4 1 2 4 3 4 4 2 2 5 4 3 4 1 0 5\n",
      " 0 4 2 2 2 2 4 0 2 5 3 0 2 2 0 2 5 4 0 2 4 3 1 4 5 4 4 0 1 5 0 2 4 0 2 0 2\n",
      " 4 4 4 4 1 0 3 2 4 4 4 2 2 4 0 2 0 4 0 5 5 4 2 4 2 4 4 0 4 5 4 1 4 2 0 4 2\n",
      " 3 0 5 5 4 4 2 0 5 4 2 0 0 0 0 0 1 4 5 5 4 0 4 3 4 1 4 5 4 5 4 1 4 4 0 3 4\n",
      " 0 3 5 2 0 5 4 0 0 2 0 2 0 4 5 0 4 4 4 3 4 2 0 5 3 5 5 4 5 0 2 3 2 4 0 0 0\n",
      " 2 5 5 4 5 2 5 2 2 4 3 4 4 0 0 2 4 0 2 2 0 4 4 4 0 5 3 4 0 0 4 4 2 5 1 2 0\n",
      " 2 1 2 2 2 3 0 2 4 5 1 0 4 2 0]\n",
      "(274,)\n",
      "cluster-bin\n",
      "[[0 0 0 0 0 1]\n",
      " [0 0 0 1 0 0]\n",
      " [0 0 1 0 0 0]\n",
      " ..., \n",
      " [0 0 0 0 1 0]\n",
      " [0 0 1 0 0 0]\n",
      " [1 0 0 0 0 0]]\n",
      "(274, 6)\n",
      "output\n",
      "[[ 0.0741286   0.37448835 -1.16992775 ...,  0.          0.          1.        ]\n",
      " [ 1.15973798 -0.56594308  0.34310091 ...,  1.          0.          0.        ]\n",
      " [-1.56537184 -0.80343421  0.23138195 ...,  0.          0.          0.        ]\n",
      " ..., \n",
      " [-0.09361559  0.64929709  0.33955036 ...,  0.          1.          0.        ]\n",
      " [-1.49105149 -0.94440756 -0.08819102 ...,  0.          0.          0.        ]\n",
      " [ 1.14021429 -0.60034343 -0.09984099 ...,  0.          0.          0.        ]]\n",
      "(274, 16)\n",
      "dataset\n",
      "[[-0.04679257  0.00799053 -0.04615484 ...,  0.17118303  0.0251803\n",
      "   0.05316607]\n",
      " [ 0.03522889 -0.04062021  0.06828561 ..., -0.03072789 -0.041564\n",
      "  -0.02771843]\n",
      " [-0.02399198 -0.04103842  0.02525332 ..., -0.04257377 -0.02111431\n",
      "   0.0167573 ]\n",
      " ..., \n",
      " [-0.00841926 -0.05371724  0.00834479 ..., -0.05088288  0.10817435\n",
      "  -0.01055872]\n",
      " [-0.01975591 -0.0417101   0.00464905 ..., -0.04711716 -0.10640589\n",
      "   0.08834494]\n",
      " [ 0.02101792 -0.00800809  0.13688965 ...,  0.03167452 -0.04804947\n",
      "  -0.06219959]]\n",
      "(274, 10)\n",
      "cluster\n",
      "[4 5 1 4 0 0 2 3 5 2 4 1 0 4 0 3 2 2 2 0 1 0 4 0 5 2 0 0 0 5 0 0 5 0 5 0 5\n",
      " 4 1 2 1 4 2 0 4 0 2 3 3 1 4 0 4 1 0 5 1 5 0 3 1 0 5 0 0 1 1 4 0 5 0 3 2 4\n",
      " 2 5 1 1 1 1 0 2 1 4 5 2 1 1 2 1 4 0 2 1 0 5 3 0 4 0 0 2 3 4 2 1 0 2 1 2 1\n",
      " 0 0 0 0 3 2 5 1 0 0 0 1 5 0 2 1 2 0 2 4 4 0 1 0 1 0 0 2 0 4 0 3 0 1 2 0 1\n",
      " 5 2 4 4 0 0 1 2 4 0 0 2 2 2 2 2 3 0 4 4 0 2 0 5 0 3 0 4 0 4 0 3 0 0 2 5 0\n",
      " 2 5 4 1 2 4 0 2 2 1 2 1 2 0 4 2 0 0 0 5 0 1 2 4 5 4 4 0 4 2 1 5 1 0 2 2 2\n",
      " 1 4 4 0 4 1 4 1 1 0 5 0 0 2 2 1 0 2 1 1 2 0 0 0 2 4 5 0 2 2 0 0 1 4 3 1 2\n",
      " 1 3 1 1 1 5 2 1 0 4 3 0 0 1 2]\n",
      "(274,)\n",
      "cluster-bin\n",
      "[[0 0 0 0 1 0]\n",
      " [0 0 0 0 0 1]\n",
      " [0 1 0 0 0 0]\n",
      " ..., \n",
      " [1 0 0 0 0 0]\n",
      " [0 1 0 0 0 0]\n",
      " [0 0 1 0 0 0]]\n",
      "(274, 6)\n",
      "output\n",
      "[[-0.04679257  0.00799053 -0.04615484 ...,  0.          1.          0.        ]\n",
      " [ 0.03522889 -0.04062021  0.06828561 ...,  0.          0.          1.        ]\n",
      " [-0.02399198 -0.04103842  0.02525332 ...,  0.          0.          0.        ]\n",
      " ..., \n",
      " [-0.00841926 -0.05371724  0.00834479 ...,  0.          0.          0.        ]\n",
      " [-0.01975591 -0.0417101   0.00464905 ...,  0.          0.          0.        ]\n",
      " [ 0.02101792 -0.00800809  0.13688965 ...,  0.          0.          0.        ]]\n",
      "(274, 16)\n",
      "dataset\n",
      "[[ 0.01368678 -0.5911948  -0.37728076 ...,  0.32385423 -1.41093091\n",
      "  -0.58117887]\n",
      " [-0.14162373 -0.67652985  0.20869374 ..., -0.52111697 -0.9724942\n",
      "  -0.68574476]\n",
      " [ 0.36718799  0.63900791  0.18582442 ..., -0.70403688 -0.50109286\n",
      "  -1.02889658]\n",
      " ..., \n",
      " [ 0.49276859 -0.11295187 -0.53782862 ..., -0.35199638 -0.50418565\n",
      "  -0.58445262]\n",
      " [ 0.42818093  0.54129803  0.26686614 ..., -0.88128223 -0.82668646\n",
      "  -0.85367213]\n",
      " [-0.05776371 -1.00426252 -0.35616193 ..., -0.90716451 -0.93396148\n",
      "  -1.59496575]]\n",
      "(274, 10)\n",
      "cluster\n",
      "[3 2 5 3 4 0 2 3 1 1 3 5 0 3 0 0 1 2 3 4 5 4 3 0 2 1 4 4 4 1 4 4 1 4 1 4 2\n",
      " 3 5 2 5 3 2 0 3 0 1 0 0 5 3 4 3 5 4 2 5 0 0 0 1 4 2 0 0 5 5 3 4 1 4 0 1 3\n",
      " 1 0 5 5 5 5 0 1 5 3 2 2 5 5 1 5 3 4 1 5 4 1 0 4 3 4 4 2 0 3 2 1 4 1 5 2 5\n",
      " 4 4 4 4 0 2 1 5 4 4 4 5 5 0 2 5 2 4 1 3 3 4 5 4 5 4 4 2 4 3 0 0 4 5 1 4 5\n",
      " 2 1 3 3 4 0 5 1 3 4 3 2 1 1 2 1 0 4 3 3 0 1 4 1 4 0 4 3 4 3 4 0 0 0 2 2 1\n",
      " 2 2 3 5 1 3 4 1 2 5 2 5 2 4 3 2 4 4 0 2 0 5 1 3 2 3 3 0 3 2 5 1 5 4 2 1 2\n",
      " 5 3 3 4 3 5 3 5 5 4 1 0 4 2 2 5 4 2 5 5 2 4 4 4 2 3 1 4 1 1 4 4 5 0 4 5 1\n",
      " 5 0 5 5 5 1 2 5 0 3 0 1 0 5 1]\n",
      "(274,)\n",
      "cluster-bin\n",
      "[[0 0 0 1 0 0]\n",
      " [0 0 1 0 0 0]\n",
      " [0 0 0 0 0 1]\n",
      " ..., \n",
      " [1 0 0 0 0 0]\n",
      " [0 0 0 0 0 1]\n",
      " [0 1 0 0 0 0]]\n",
      "(274, 6)\n",
      "output\n",
      "[[ 0.01368678 -0.5911948  -0.37728076 ...,  1.          0.          0.        ]\n",
      " [-0.14162373 -0.67652985  0.20869374 ...,  0.          0.          0.        ]\n",
      " [ 0.36718799  0.63900791  0.18582442 ...,  0.          0.          1.        ]\n",
      " ..., \n",
      " [ 0.49276859 -0.11295187 -0.53782862 ...,  0.          0.          0.        ]\n",
      " [ 0.42818093  0.54129803  0.26686614 ...,  0.          0.          1.        ]\n",
      " [-0.05776371 -1.00426252 -0.35616193 ...,  0.          0.          0.        ]]\n",
      "(274, 16)\n",
      "dataset\n",
      "[[ 0.          0.          0.66666667 ...,  0.          0.          0.        ]\n",
      " [ 0.          0.          0.         ...,  0.          0.          0.        ]\n",
      " [ 0.66666667  1.          0.         ...,  0.33333333  0.          1.        ]\n",
      " ..., \n",
      " [ 0.          0.          0.         ...,  0.          0.          0.        ]\n",
      " [ 0.66666667  1.          0.         ...,  0.66666667  0.          1.        ]\n",
      " [ 0.          0.          0.         ...,  0.          0.          0.        ]]\n",
      "(274, 10)\n",
      "cluster\n",
      "[3 2 5 3 0 0 2 4 2 0 0 5 0 3 0 4 0 2 2 0 5 0 3 0 2 2 0 0 0 2 0 0 2 0 2 0 2\n",
      " 3 1 2 1 0 2 0 3 0 2 4 4 1 3 0 3 5 0 2 1 0 0 4 1 0 2 0 0 1 1 3 0 2 0 4 2 3\n",
      " 2 0 1 1 5 5 0 2 1 3 2 2 1 1 0 1 3 0 2 1 0 2 4 0 3 0 0 2 4 0 2 1 0 2 1 0 1\n",
      " 0 0 0 0 4 0 2 5 0 0 0 5 1 0 2 1 2 0 0 3 3 0 5 0 1 0 0 2 0 3 0 4 0 1 0 0 1\n",
      " 2 2 3 3 0 0 1 2 3 0 3 2 0 0 2 2 0 0 3 0 0 2 0 2 0 0 0 3 0 3 0 0 0 0 2 2 0\n",
      " 2 2 3 1 2 3 0 0 2 1 2 1 2 0 3 2 0 0 0 2 0 5 2 3 2 3 3 0 3 2 5 2 1 0 2 2 0\n",
      " 1 0 3 0 3 5 3 1 1 0 2 0 0 2 2 1 0 2 1 1 2 0 0 0 2 0 2 0 2 2 0 0 5 3 4 5 2\n",
      " 1 4 1 5 1 2 2 5 0 3 4 2 0 1 2]\n",
      "(274,)\n",
      "cluster-bin\n",
      "[[0 0 0 1 0 0]\n",
      " [0 0 1 0 0 0]\n",
      " [0 0 0 0 0 1]\n",
      " ..., \n",
      " [1 0 0 0 0 0]\n",
      " [0 1 0 0 0 0]\n",
      " [0 0 1 0 0 0]]\n",
      "(274, 6)\n",
      "output\n",
      "[[ 0.          0.          0.66666667 ...,  1.          0.          0.        ]\n",
      " [ 0.          0.          0.         ...,  0.          0.          0.        ]\n",
      " [ 0.66666667  1.          0.         ...,  0.          0.          1.        ]\n",
      " ..., \n",
      " [ 0.          0.          0.         ...,  0.          0.          0.        ]\n",
      " [ 0.66666667  1.          0.         ...,  0.          0.          0.        ]\n",
      " [ 0.          0.          0.         ...,  0.          0.          0.        ]]\n",
      "(274, 16)\n"
     ]
    }
   ],
   "source": [
    "datasets = train_X, train_x_pca, train_x_ica, train_x_rand, train_x_10best\n",
    "kmeans_ar = run_k_means_ar(datasets, n_clusters=6)\n",
    "enriched_kmeans_ar = enrich_with_cluster(datasets, get_predictions(kmeans_ar) ) "
   ]
  },
  {
   "cell_type": "code",
   "execution_count": 138,
   "metadata": {
    "collapsed": false
   },
   "outputs": [
    {
     "name": "stdout",
     "output_type": "stream",
     "text": [
      "{'model': GMM(covariance_type='diag', init_params='wmc', min_covar=0.001,\n",
      "  n_components=6, n_init=1, n_iter=100, params='wmc', random_state=None,\n",
      "  thresh=None, tol=0.001, verbose=0), 'prediction': array([1, 5, 0, 1, 4, 4, 2, 3, 5, 2, 1, 0, 4, 1, 4, 3, 2, 2, 2, 4, 0, 4, 1,\n",
      "       4, 5, 2, 4, 4, 4, 5, 4, 4, 5, 4, 5, 4, 5, 1, 0, 2, 0, 1, 2, 4, 1, 4,\n",
      "       2, 3, 3, 0, 1, 4, 1, 0, 4, 5, 0, 4, 4, 3, 0, 4, 5, 4, 4, 0, 0, 1, 4,\n",
      "       5, 4, 3, 2, 1, 2, 4, 0, 0, 0, 0, 4, 2, 0, 1, 5, 2, 0, 0, 2, 0, 1, 4,\n",
      "       2, 0, 4, 5, 3, 4, 1, 4, 4, 2, 3, 1, 2, 0, 4, 2, 0, 2, 0, 4, 4, 4, 4,\n",
      "       3, 2, 5, 0, 4, 4, 4, 0, 0, 4, 2, 0, 2, 4, 2, 1, 1, 4, 0, 4, 0, 4, 4,\n",
      "       2, 4, 1, 4, 3, 4, 0, 2, 4, 0, 5, 2, 1, 1, 4, 4, 0, 2, 1, 4, 0, 2, 2,\n",
      "       2, 2, 2, 3, 4, 1, 1, 4, 2, 4, 5, 4, 3, 4, 1, 4, 1, 4, 3, 4, 4, 2, 5,\n",
      "       4, 2, 5, 1, 0, 2, 1, 4, 2, 2, 0, 2, 0, 2, 4, 1, 2, 4, 4, 4, 5, 4, 0,\n",
      "       2, 1, 5, 1, 1, 4, 1, 2, 0, 5, 0, 4, 2, 2, 2, 0, 1, 1, 4, 1, 0, 1, 0,\n",
      "       0, 4, 5, 4, 4, 2, 2, 0, 4, 2, 0, 0, 2, 4, 4, 4, 2, 1, 5, 4, 2, 2, 4,\n",
      "       4, 0, 1, 3, 0, 2, 0, 3, 0, 0, 0, 5, 2, 0, 4, 1, 3, 2, 4, 0, 2]), 'time': 0.06289196014404297}\n",
      "{'model': GMM(covariance_type='diag', init_params='wmc', min_covar=0.001,\n",
      "  n_components=6, n_init=1, n_iter=100, params='wmc', random_state=None,\n",
      "  thresh=None, tol=0.001, verbose=0), 'prediction': array([3, 1, 2, 3, 0, 0, 5, 4, 1, 5, 3, 2, 0, 3, 0, 4, 5, 5, 5, 0, 2, 0, 3,\n",
      "       0, 1, 5, 0, 0, 0, 1, 0, 0, 1, 0, 1, 0, 1, 3, 2, 5, 2, 3, 5, 0, 3, 0,\n",
      "       5, 4, 4, 2, 3, 0, 3, 2, 0, 5, 2, 0, 0, 4, 2, 0, 1, 0, 0, 2, 2, 3, 0,\n",
      "       1, 0, 4, 5, 3, 5, 0, 2, 2, 2, 2, 0, 5, 2, 3, 1, 5, 2, 2, 5, 2, 3, 0,\n",
      "       5, 2, 0, 1, 4, 0, 3, 0, 0, 5, 4, 3, 5, 2, 0, 5, 2, 5, 2, 0, 0, 0, 0,\n",
      "       4, 5, 1, 2, 0, 0, 0, 2, 1, 0, 5, 2, 5, 0, 5, 3, 3, 0, 2, 0, 2, 0, 0,\n",
      "       5, 0, 3, 0, 4, 0, 2, 5, 0, 2, 1, 5, 3, 3, 0, 0, 2, 5, 3, 0, 2, 5, 5,\n",
      "       5, 5, 5, 4, 0, 3, 3, 0, 5, 0, 1, 0, 4, 0, 3, 0, 3, 0, 4, 0, 0, 5, 1,\n",
      "       0, 5, 1, 3, 2, 5, 3, 0, 5, 5, 2, 5, 2, 5, 0, 3, 5, 0, 0, 0, 1, 0, 2,\n",
      "       5, 3, 1, 3, 3, 0, 3, 5, 2, 1, 2, 0, 5, 5, 5, 2, 3, 3, 0, 3, 2, 3, 2,\n",
      "       2, 0, 1, 0, 0, 5, 5, 2, 0, 5, 2, 2, 5, 0, 0, 0, 5, 3, 1, 0, 5, 5, 0,\n",
      "       0, 2, 3, 4, 2, 5, 2, 4, 2, 2, 2, 1, 5, 2, 0, 3, 4, 5, 0, 2, 5]), 'time': 0.028029918670654297}\n",
      "{'model': GMM(covariance_type='diag', init_params='wmc', min_covar=0.001,\n",
      "  n_components=6, n_init=1, n_iter=100, params='wmc', random_state=None,\n",
      "  thresh=None, tol=0.001, verbose=0), 'prediction': array([0, 5, 1, 0, 2, 2, 3, 4, 5, 3, 0, 1, 2, 0, 2, 4, 3, 3, 3, 2, 1, 2, 0,\n",
      "       2, 5, 3, 2, 2, 2, 5, 2, 2, 5, 2, 5, 2, 5, 0, 1, 3, 1, 0, 3, 2, 0, 2,\n",
      "       3, 4, 4, 1, 0, 2, 0, 1, 2, 5, 1, 5, 2, 4, 1, 2, 5, 2, 2, 1, 1, 0, 2,\n",
      "       5, 2, 4, 2, 0, 3, 5, 1, 1, 1, 1, 2, 3, 1, 0, 5, 3, 1, 1, 2, 1, 0, 2,\n",
      "       3, 1, 1, 5, 4, 3, 0, 2, 2, 3, 4, 2, 3, 1, 2, 3, 1, 3, 1, 2, 2, 2, 2,\n",
      "       4, 1, 5, 1, 2, 2, 2, 1, 5, 2, 3, 1, 3, 2, 2, 0, 0, 2, 1, 2, 1, 2, 2,\n",
      "       3, 2, 0, 2, 4, 2, 1, 2, 2, 1, 5, 3, 0, 0, 2, 2, 1, 3, 0, 2, 3, 3, 2,\n",
      "       3, 3, 3, 4, 2, 0, 0, 2, 3, 2, 5, 2, 4, 2, 0, 2, 0, 2, 4, 2, 2, 3, 5,\n",
      "       2, 3, 5, 0, 1, 3, 2, 2, 3, 3, 1, 3, 1, 2, 2, 0, 3, 2, 2, 2, 5, 2, 1,\n",
      "       3, 0, 5, 0, 0, 2, 0, 3, 1, 5, 1, 2, 3, 3, 1, 1, 2, 0, 2, 0, 1, 0, 1,\n",
      "       1, 2, 5, 2, 2, 2, 3, 1, 2, 3, 1, 1, 3, 2, 2, 2, 3, 0, 5, 2, 3, 2, 2,\n",
      "       2, 1, 0, 4, 1, 3, 1, 4, 1, 1, 1, 5, 3, 1, 2, 0, 4, 3, 2, 1, 2]), 'time': 0.03923916816711426}\n",
      "{'model': GMM(covariance_type='diag', init_params='wmc', min_covar=0.001,\n",
      "  n_components=6, n_init=1, n_iter=100, params='wmc', random_state=None,\n",
      "  thresh=None, tol=0.001, verbose=0), 'prediction': array([0, 3, 1, 0, 2, 5, 3, 0, 4, 4, 0, 1, 5, 0, 5, 5, 4, 3, 4, 2, 1, 2, 0,\n",
      "       5, 3, 4, 2, 5, 2, 4, 2, 2, 4, 2, 4, 2, 3, 0, 1, 3, 1, 0, 3, 5, 0, 5,\n",
      "       4, 5, 5, 1, 0, 2, 0, 1, 2, 3, 1, 5, 5, 5, 1, 5, 3, 5, 5, 1, 1, 0, 2,\n",
      "       4, 2, 5, 4, 0, 4, 5, 1, 1, 1, 1, 5, 3, 1, 0, 3, 3, 1, 1, 4, 1, 0, 2,\n",
      "       4, 1, 5, 4, 5, 2, 0, 2, 2, 3, 5, 0, 3, 1, 2, 4, 1, 3, 1, 2, 5, 2, 2,\n",
      "       5, 3, 4, 1, 5, 2, 2, 1, 1, 5, 3, 1, 3, 2, 4, 0, 0, 5, 1, 2, 1, 2, 2,\n",
      "       3, 2, 0, 5, 5, 5, 1, 4, 2, 1, 3, 4, 0, 0, 2, 5, 1, 4, 0, 2, 0, 3, 4,\n",
      "       4, 3, 4, 5, 2, 0, 4, 5, 4, 2, 4, 5, 5, 5, 0, 2, 0, 5, 5, 5, 2, 3, 3,\n",
      "       4, 3, 3, 0, 1, 4, 0, 5, 4, 3, 1, 3, 1, 3, 2, 0, 3, 2, 2, 5, 3, 5, 1,\n",
      "       4, 0, 3, 0, 0, 5, 0, 3, 1, 4, 1, 2, 3, 3, 3, 1, 4, 0, 2, 0, 1, 0, 1,\n",
      "       1, 2, 4, 5, 5, 3, 3, 1, 2, 3, 1, 1, 3, 2, 2, 2, 3, 0, 4, 2, 4, 5, 2,\n",
      "       2, 1, 0, 2, 1, 4, 1, 5, 1, 1, 1, 4, 3, 1, 5, 0, 5, 4, 5, 1, 4]), 'time': 0.033132076263427734}\n",
      "{'model': GMM(covariance_type='diag', init_params='wmc', min_covar=0.001,\n",
      "  n_components=6, n_init=1, n_iter=100, params='wmc', random_state=None,\n",
      "  thresh=None, tol=0.001, verbose=0), 'prediction': array([3, 5, 2, 3, 0, 0, 1, 4, 1, 5, 3, 2, 0, 3, 5, 4, 5, 1, 1, 0, 2, 0, 3,\n",
      "       0, 1, 1, 0, 0, 0, 1, 0, 0, 1, 0, 1, 3, 1, 3, 2, 1, 2, 3, 1, 0, 3, 0,\n",
      "       5, 4, 4, 2, 3, 0, 3, 2, 0, 1, 2, 0, 0, 4, 2, 0, 1, 0, 0, 2, 2, 3, 0,\n",
      "       5, 0, 4, 1, 3, 1, 0, 2, 2, 2, 2, 0, 1, 2, 3, 1, 1, 2, 2, 5, 2, 3, 0,\n",
      "       1, 2, 0, 5, 4, 0, 3, 0, 0, 1, 4, 3, 1, 2, 0, 1, 2, 5, 2, 0, 0, 0, 0,\n",
      "       4, 5, 1, 2, 0, 0, 0, 2, 2, 0, 1, 2, 1, 0, 5, 3, 3, 0, 2, 0, 2, 0, 0,\n",
      "       1, 0, 3, 0, 4, 0, 2, 5, 0, 2, 1, 1, 3, 3, 0, 0, 2, 5, 3, 0, 2, 1, 5,\n",
      "       5, 1, 5, 4, 0, 3, 0, 0, 1, 0, 1, 0, 4, 0, 3, 0, 3, 0, 4, 0, 0, 1, 1,\n",
      "       0, 1, 1, 3, 2, 1, 3, 0, 5, 5, 2, 1, 2, 1, 0, 3, 1, 0, 0, 0, 1, 0, 2,\n",
      "       1, 3, 5, 3, 3, 0, 3, 1, 2, 1, 2, 0, 1, 1, 5, 2, 3, 3, 0, 3, 2, 3, 2,\n",
      "       2, 3, 1, 0, 0, 1, 1, 2, 0, 1, 2, 2, 1, 0, 0, 0, 1, 3, 5, 0, 1, 1, 0,\n",
      "       0, 2, 3, 4, 2, 1, 2, 4, 2, 2, 2, 1, 5, 2, 0, 3, 4, 5, 0, 2, 1]), 'time': 0.019989013671875}\n",
      "dataset\n",
      "[[ 0.66666667  0.          0.33333333 ...,  1.          0.          0.84      ]\n",
      " [ 0.66666667  1.          1.         ...,  0.66666667  0.          0.13333333]\n",
      " [ 1.          0.66666667  1.         ...,  0.66666667  1.          0.70666667]\n",
      " ..., \n",
      " [ 1.          0.66666667  0.33333333 ...,  0.66666667  0.          0.48      ]\n",
      " [ 1.          0.66666667  1.         ...,  0.66666667  1.          0.69333333]\n",
      " [ 0.66666667  0.66666667  1.         ...,  0.66666667  0.          0.36      ]]\n",
      "(274, 34)\n",
      "cluster\n",
      "[1 5 0 1 4 4 2 3 5 2 1 0 4 1 4 3 2 2 2 4 0 4 1 4 5 2 4 4 4 5 4 4 5 4 5 4 5\n",
      " 1 0 2 0 1 2 4 1 4 2 3 3 0 1 4 1 0 4 5 0 4 4 3 0 4 5 4 4 0 0 1 4 5 4 3 2 1\n",
      " 2 4 0 0 0 0 4 2 0 1 5 2 0 0 2 0 1 4 2 0 4 5 3 4 1 4 4 2 3 1 2 0 4 2 0 2 0\n",
      " 4 4 4 4 3 2 5 0 4 4 4 0 0 4 2 0 2 4 2 1 1 4 0 4 0 4 4 2 4 1 4 3 4 0 2 4 0\n",
      " 5 2 1 1 4 4 0 2 1 4 0 2 2 2 2 2 3 4 1 1 4 2 4 5 4 3 4 1 4 1 4 3 4 4 2 5 4\n",
      " 2 5 1 0 2 1 4 2 2 0 2 0 2 4 1 2 4 4 4 5 4 0 2 1 5 1 1 4 1 2 0 5 0 4 2 2 2\n",
      " 0 1 1 4 1 0 1 0 0 4 5 4 4 2 2 0 4 2 0 0 2 4 4 4 2 1 5 4 2 2 4 4 0 1 3 0 2\n",
      " 0 3 0 0 0 5 2 0 4 1 3 2 4 0 2]\n",
      "(274,)\n",
      "cluster-bin\n",
      "[[0 1 0 0 0 0]\n",
      " [0 0 0 0 0 1]\n",
      " [1 0 0 0 0 0]\n",
      " ..., \n",
      " [0 0 0 0 1 0]\n",
      " [1 0 0 0 0 0]\n",
      " [0 0 1 0 0 0]]\n",
      "(274, 6)\n",
      "output\n",
      "[[ 0.66666667  0.          0.33333333 ...,  0.          0.          0.        ]\n",
      " [ 0.66666667  1.          1.         ...,  0.          0.          1.        ]\n",
      " [ 1.          0.66666667  1.         ...,  0.          0.          0.        ]\n",
      " ..., \n",
      " [ 1.          0.66666667  0.33333333 ...,  0.          1.          0.        ]\n",
      " [ 1.          0.66666667  1.         ...,  0.          0.          0.        ]\n",
      " [ 0.66666667  0.66666667  1.         ...,  0.          0.          0.        ]]\n",
      "(274, 40)\n",
      "dataset\n",
      "[[ 0.0741286   0.37448835 -1.16992775 ...,  0.02630622 -0.43569765\n",
      "  -0.02664452]\n",
      " [ 1.15973798 -0.56594308  0.34310091 ..., -0.52872103  0.15004269\n",
      "   0.15854247]\n",
      " [-1.56537184 -0.80343421  0.23138195 ..., -0.12009001  0.26650245\n",
      "  -0.13818527]\n",
      " ..., \n",
      " [-0.09361559  0.64929709  0.33955036 ..., -0.17194198  0.0231158\n",
      "  -0.28679421]\n",
      " [-1.49105149 -0.94440756 -0.08819102 ..., -0.09355793  0.23036916\n",
      "  -0.07320185]\n",
      " [ 1.14021429 -0.60034343 -0.09984099 ...,  0.18013786  0.32087148\n",
      "   0.22723052]]\n",
      "(274, 10)\n",
      "cluster\n",
      "[3 1 2 3 0 0 5 4 1 5 3 2 0 3 0 4 5 5 5 0 2 0 3 0 1 5 0 0 0 1 0 0 1 0 1 0 1\n",
      " 3 2 5 2 3 5 0 3 0 5 4 4 2 3 0 3 2 0 5 2 0 0 4 2 0 1 0 0 2 2 3 0 1 0 4 5 3\n",
      " 5 0 2 2 2 2 0 5 2 3 1 5 2 2 5 2 3 0 5 2 0 1 4 0 3 0 0 5 4 3 5 2 0 5 2 5 2\n",
      " 0 0 0 0 4 5 1 2 0 0 0 2 1 0 5 2 5 0 5 3 3 0 2 0 2 0 0 5 0 3 0 4 0 2 5 0 2\n",
      " 1 5 3 3 0 0 2 5 3 0 2 5 5 5 5 5 4 0 3 3 0 5 0 1 0 4 0 3 0 3 0 4 0 0 5 1 0\n",
      " 5 1 3 2 5 3 0 5 5 2 5 2 5 0 3 5 0 0 0 1 0 2 5 3 1 3 3 0 3 5 2 1 2 0 5 5 5\n",
      " 2 3 3 0 3 2 3 2 2 0 1 0 0 5 5 2 0 5 2 2 5 0 0 0 5 3 1 0 5 5 0 0 2 3 4 2 5\n",
      " 2 4 2 2 2 1 5 2 0 3 4 5 0 2 5]\n",
      "(274,)\n",
      "cluster-bin\n",
      "[[0 0 0 1 0 0]\n",
      " [0 1 0 0 0 0]\n",
      " [0 0 1 0 0 0]\n",
      " ..., \n",
      " [1 0 0 0 0 0]\n",
      " [0 0 1 0 0 0]\n",
      " [0 0 0 0 0 1]]\n",
      "(274, 6)\n",
      "output\n",
      "[[ 0.0741286   0.37448835 -1.16992775 ...,  1.          0.          0.        ]\n",
      " [ 1.15973798 -0.56594308  0.34310091 ...,  0.          0.          0.        ]\n",
      " [-1.56537184 -0.80343421  0.23138195 ...,  0.          0.          0.        ]\n",
      " ..., \n",
      " [-0.09361559  0.64929709  0.33955036 ...,  0.          0.          0.        ]\n",
      " [-1.49105149 -0.94440756 -0.08819102 ...,  0.          0.          0.        ]\n",
      " [ 1.14021429 -0.60034343 -0.09984099 ...,  0.          0.          1.        ]]\n",
      "(274, 16)\n",
      "dataset\n",
      "[[-0.04679257  0.00799053 -0.04615484 ...,  0.17118303  0.0251803\n",
      "   0.05316607]\n",
      " [ 0.03522889 -0.04062021  0.06828561 ..., -0.03072789 -0.041564\n",
      "  -0.02771843]\n",
      " [-0.02399198 -0.04103842  0.02525332 ..., -0.04257377 -0.02111431\n",
      "   0.0167573 ]\n",
      " ..., \n",
      " [-0.00841926 -0.05371724  0.00834479 ..., -0.05088288  0.10817435\n",
      "  -0.01055872]\n",
      " [-0.01975591 -0.0417101   0.00464905 ..., -0.04711716 -0.10640589\n",
      "   0.08834494]\n",
      " [ 0.02101792 -0.00800809  0.13688965 ...,  0.03167452 -0.04804947\n",
      "  -0.06219959]]\n",
      "(274, 10)\n",
      "cluster\n",
      "[0 5 1 0 2 2 3 4 5 3 0 1 2 0 2 4 3 3 3 2 1 2 0 2 5 3 2 2 2 5 2 2 5 2 5 2 5\n",
      " 0 1 3 1 0 3 2 0 2 3 4 4 1 0 2 0 1 2 5 1 5 2 4 1 2 5 2 2 1 1 0 2 5 2 4 2 0\n",
      " 3 5 1 1 1 1 2 3 1 0 5 3 1 1 2 1 0 2 3 1 1 5 4 3 0 2 2 3 4 2 3 1 2 3 1 3 1\n",
      " 2 2 2 2 4 1 5 1 2 2 2 1 5 2 3 1 3 2 2 0 0 2 1 2 1 2 2 3 2 0 2 4 2 1 2 2 1\n",
      " 5 3 0 0 2 2 1 3 0 2 3 3 2 3 3 3 4 2 0 0 2 3 2 5 2 4 2 0 2 0 2 4 2 2 3 5 2\n",
      " 3 5 0 1 3 2 2 3 3 1 3 1 2 2 0 3 2 2 2 5 2 1 3 0 5 0 0 2 0 3 1 5 1 2 3 3 1\n",
      " 1 2 0 2 0 1 0 1 1 2 5 2 2 2 3 1 2 3 1 1 3 2 2 2 3 0 5 2 3 2 2 2 1 0 4 1 3\n",
      " 1 4 1 1 1 5 3 1 2 0 4 3 2 1 2]\n",
      "(274,)\n",
      "cluster-bin\n",
      "[[1 0 0 0 0 0]\n",
      " [0 0 0 0 0 1]\n",
      " [0 1 0 0 0 0]\n",
      " ..., \n",
      " [0 0 1 0 0 0]\n",
      " [0 1 0 0 0 0]\n",
      " [0 0 1 0 0 0]]\n",
      "(274, 6)\n",
      "output\n",
      "[[-0.04679257  0.00799053 -0.04615484 ...,  0.          0.          0.        ]\n",
      " [ 0.03522889 -0.04062021  0.06828561 ...,  0.          0.          1.        ]\n",
      " [-0.02399198 -0.04103842  0.02525332 ...,  0.          0.          0.        ]\n",
      " ..., \n",
      " [-0.00841926 -0.05371724  0.00834479 ...,  0.          0.          0.        ]\n",
      " [-0.01975591 -0.0417101   0.00464905 ...,  0.          0.          0.        ]\n",
      " [ 0.02101792 -0.00800809  0.13688965 ...,  0.          0.          0.        ]]\n",
      "(274, 16)\n",
      "dataset\n",
      "[[ 0.01368678 -0.5911948  -0.37728076 ...,  0.32385423 -1.41093091\n",
      "  -0.58117887]\n",
      " [-0.14162373 -0.67652985  0.20869374 ..., -0.52111697 -0.9724942\n",
      "  -0.68574476]\n",
      " [ 0.36718799  0.63900791  0.18582442 ..., -0.70403688 -0.50109286\n",
      "  -1.02889658]\n",
      " ..., \n",
      " [ 0.49276859 -0.11295187 -0.53782862 ..., -0.35199638 -0.50418565\n",
      "  -0.58445262]\n",
      " [ 0.42818093  0.54129803  0.26686614 ..., -0.88128223 -0.82668646\n",
      "  -0.85367213]\n",
      " [-0.05776371 -1.00426252 -0.35616193 ..., -0.90716451 -0.93396148\n",
      "  -1.59496575]]\n",
      "(274, 10)\n",
      "cluster\n",
      "[0 3 1 0 2 5 3 0 4 4 0 1 5 0 5 5 4 3 4 2 1 2 0 5 3 4 2 5 2 4 2 2 4 2 4 2 3\n",
      " 0 1 3 1 0 3 5 0 5 4 5 5 1 0 2 0 1 2 3 1 5 5 5 1 5 3 5 5 1 1 0 2 4 2 5 4 0\n",
      " 4 5 1 1 1 1 5 3 1 0 3 3 1 1 4 1 0 2 4 1 5 4 5 2 0 2 2 3 5 0 3 1 2 4 1 3 1\n",
      " 2 5 2 2 5 3 4 1 5 2 2 1 1 5 3 1 3 2 4 0 0 5 1 2 1 2 2 3 2 0 5 5 5 1 4 2 1\n",
      " 3 4 0 0 2 5 1 4 0 2 0 3 4 4 3 4 5 2 0 4 5 4 2 4 5 5 5 0 2 0 5 5 5 2 3 3 4\n",
      " 3 3 0 1 4 0 5 4 3 1 3 1 3 2 0 3 2 2 5 3 5 1 4 0 3 0 0 5 0 3 1 4 1 2 3 3 3\n",
      " 1 4 0 2 0 1 0 1 1 2 4 5 5 3 3 1 2 3 1 1 3 2 2 2 3 0 4 2 4 5 2 2 1 0 2 1 4\n",
      " 1 5 1 1 1 4 3 1 5 0 5 4 5 1 4]\n",
      "(274,)\n",
      "cluster-bin\n",
      "[[1 0 0 0 0 0]\n",
      " [0 0 0 1 0 0]\n",
      " [0 1 0 0 0 0]\n",
      " ..., \n",
      " [0 0 0 0 0 1]\n",
      " [0 1 0 0 0 0]\n",
      " [0 0 0 0 1 0]]\n",
      "(274, 6)\n",
      "output\n",
      "[[ 0.01368678 -0.5911948  -0.37728076 ...,  0.          0.          0.        ]\n",
      " [-0.14162373 -0.67652985  0.20869374 ...,  1.          0.          0.        ]\n",
      " [ 0.36718799  0.63900791  0.18582442 ...,  0.          0.          0.        ]\n",
      " ..., \n",
      " [ 0.49276859 -0.11295187 -0.53782862 ...,  0.          0.          1.        ]\n",
      " [ 0.42818093  0.54129803  0.26686614 ...,  0.          0.          0.        ]\n",
      " [-0.05776371 -1.00426252 -0.35616193 ...,  0.          1.          0.        ]]\n",
      "(274, 16)\n",
      "dataset\n",
      "[[ 0.          0.          0.66666667 ...,  0.          0.          0.        ]\n",
      " [ 0.          0.          0.         ...,  0.          0.          0.        ]\n",
      " [ 0.66666667  1.          0.         ...,  0.33333333  0.          1.        ]\n",
      " ..., \n",
      " [ 0.          0.          0.         ...,  0.          0.          0.        ]\n",
      " [ 0.66666667  1.          0.         ...,  0.66666667  0.          1.        ]\n",
      " [ 0.          0.          0.         ...,  0.          0.          0.        ]]\n",
      "(274, 10)\n",
      "cluster\n",
      "[3 5 2 3 0 0 1 4 1 5 3 2 0 3 5 4 5 1 1 0 2 0 3 0 1 1 0 0 0 1 0 0 1 0 1 3 1\n",
      " 3 2 1 2 3 1 0 3 0 5 4 4 2 3 0 3 2 0 1 2 0 0 4 2 0 1 0 0 2 2 3 0 5 0 4 1 3\n",
      " 1 0 2 2 2 2 0 1 2 3 1 1 2 2 5 2 3 0 1 2 0 5 4 0 3 0 0 1 4 3 1 2 0 1 2 5 2\n",
      " 0 0 0 0 4 5 1 2 0 0 0 2 2 0 1 2 1 0 5 3 3 0 2 0 2 0 0 1 0 3 0 4 0 2 5 0 2\n",
      " 1 1 3 3 0 0 2 5 3 0 2 1 5 5 1 5 4 0 3 0 0 1 0 1 0 4 0 3 0 3 0 4 0 0 1 1 0\n",
      " 1 1 3 2 1 3 0 5 5 2 1 2 1 0 3 1 0 0 0 1 0 2 1 3 5 3 3 0 3 1 2 1 2 0 1 1 5\n",
      " 2 3 3 0 3 2 3 2 2 3 1 0 0 1 1 2 0 1 2 2 1 0 0 0 1 3 5 0 1 1 0 0 2 3 4 2 1\n",
      " 2 4 2 2 2 1 5 2 0 3 4 5 0 2 1]\n",
      "(274,)\n",
      "cluster-bin\n",
      "[[0 0 0 1 0 0]\n",
      " [0 0 0 0 0 1]\n",
      " [0 0 1 0 0 0]\n",
      " ..., \n",
      " [1 0 0 0 0 0]\n",
      " [0 0 1 0 0 0]\n",
      " [0 1 0 0 0 0]]\n",
      "(274, 6)\n",
      "output\n",
      "[[ 0.          0.          0.66666667 ...,  1.          0.          0.        ]\n",
      " [ 0.          0.          0.         ...,  0.          0.          1.        ]\n",
      " [ 0.66666667  1.          0.         ...,  0.          0.          0.        ]\n",
      " ..., \n",
      " [ 0.          0.          0.         ...,  0.          0.          0.        ]\n",
      " [ 0.66666667  1.          0.         ...,  0.          0.          0.        ]\n",
      " [ 0.          0.          0.         ...,  0.          0.          0.        ]]\n",
      "(274, 16)\n"
     ]
    }
   ],
   "source": [
    "maxlikelyhood_ar = run_maxlikelyhood_ar(datasets,n_clusters=6)\n",
    "enriched_maxlikelyhood_ar = enrich_with_cluster(datasets, get_predictions(maxlikelyhood_ar) ) "
   ]
  },
  {
   "cell_type": "code",
   "execution_count": 139,
   "metadata": {
    "collapsed": false
   },
   "outputs": [],
   "source": [
    "all_data = list(datasets) + enriched_kmeans_ar + enriched_maxlikelyhood_ar"
   ]
  },
  {
   "cell_type": "code",
   "execution_count": 140,
   "metadata": {
    "collapsed": false
   },
   "outputs": [
    {
     "name": "stdout",
     "output_type": "stream",
     "text": [
      "{'cv': array([ 0.96551724,  1.        ,  0.96551724,  1.        ,  0.96428571,\n",
      "        0.92857143,  0.92307692,  0.92307692,  0.96      ,  0.96      ]), 'time': 7.39321494102478}\n",
      "{'cv': array([ 0.96551724,  0.93103448,  0.96551724,  1.        ,  0.96428571,\n",
      "        1.        ,  0.96153846,  0.96153846,  0.96      ,  1.        ]), 'time': 7.3776140213012695}\n",
      "{'cv': array([ 0.93103448,  0.93103448,  0.96551724,  1.        ,  0.96428571,\n",
      "        0.92857143,  0.96153846,  0.96153846,  0.96      ,  1.        ]), 'time': 8.087377071380615}\n",
      "{'cv': array([ 0.79310345,  0.86206897,  0.89655172,  0.89655172,  0.85714286,\n",
      "        0.78571429,  0.96153846,  0.88461538,  0.96      ,  0.96      ]), 'time': 8.567901134490967}\n",
      "{'cv': array([ 0.82758621,  0.82758621,  0.86206897,  0.86206897,  0.85714286,\n",
      "        0.78571429,  0.84615385,  0.84615385,  0.88      ,  0.88      ]), 'time': 7.400100946426392}\n",
      "{'cv': array([ 0.96551724,  1.        ,  0.96551724,  1.        ,  0.96428571,\n",
      "        1.        ,  0.92307692,  0.92307692,  0.96      ,  0.96      ]), 'time': 7.171309947967529}\n",
      "{'cv': array([ 0.93103448,  0.93103448,  0.96551724,  1.        ,  0.96428571,\n",
      "        1.        ,  0.96153846,  0.96153846,  0.96      ,  1.        ]), 'time': 7.369720935821533}\n",
      "{'cv': array([ 0.89655172,  0.93103448,  0.96551724,  0.96551724,  0.92857143,\n",
      "        0.96428571,  0.96153846,  0.96153846,  0.96      ,  0.96      ]), 'time': 7.819472074508667}\n",
      "{'cv': array([ 0.72413793,  0.86206897,  0.96551724,  0.86206897,  0.82142857,\n",
      "        0.85714286,  0.96153846,  0.88461538,  0.96      ,  0.92      ]), 'time': 7.275267124176025}\n",
      "{'cv': array([ 0.82758621,  0.86206897,  0.86206897,  0.86206897,  0.85714286,\n",
      "        0.75      ,  0.80769231,  0.84615385,  0.88      ,  0.88      ]), 'time': 7.081370115280151}\n",
      "{'cv': array([ 0.96551724,  0.96551724,  0.96551724,  1.        ,  0.96428571,\n",
      "        1.        ,  0.92307692,  0.92307692,  0.96      ,  0.96      ]), 'time': 7.370355844497681}\n",
      "{'cv': array([ 0.89655172,  0.93103448,  0.96551724,  1.        ,  0.89285714,\n",
      "        1.        ,  0.96153846,  0.96153846,  0.96      ,  1.        ]), 'time': 8.474461793899536}\n",
      "{'cv': array([ 0.89655172,  0.93103448,  0.93103448,  1.        ,  0.85714286,\n",
      "        0.96428571,  0.92307692,  0.96153846,  0.96      ,  0.96      ]), 'time': 9.471917867660522}\n",
      "{'cv': array([ 0.79310345,  0.89655172,  0.93103448,  0.96551724,  0.89285714,\n",
      "        0.89285714,  0.88461538,  0.84615385,  0.92      ,  0.92      ]), 'time': 7.548068046569824}\n",
      "{'cv': array([ 0.82758621,  0.82758621,  0.86206897,  0.86206897,  0.85714286,\n",
      "        0.82142857,  0.84615385,  0.84615385,  0.88      ,  0.88      ]), 'time': 7.281053781509399}\n"
     ]
    }
   ],
   "source": [
    "cv_scores = [ run_nn_cv(ds, train_Y,units=30, n_iter=30, cv=10) for ds in all_data ]"
   ]
  },
  {
   "cell_type": "code",
   "execution_count": 141,
   "metadata": {
    "collapsed": false
   },
   "outputs": [
    {
     "name": "stdout",
     "output_type": "stream",
     "text": [
      "['raw', 'pca', 'ica', 'rand', '10max', 'raw_kmeans', 'pca_kmeans', 'ica_kmeans', 'rand_kmeans', '10max_kmeans', 'raw_maxexp', 'pca_maxexp', 'ica_maxexp', 'rand_maxexp', '10max_maxexp']\n"
     ]
    },
    {
     "data": {
      "text/html": [
       "<div>\n",
       "<table border=\"1\" class=\"dataframe\">\n",
       "  <thead>\n",
       "    <tr style=\"text-align: right;\">\n",
       "      <th></th>\n",
       "      <th>raw</th>\n",
       "      <th>pca</th>\n",
       "      <th>ica</th>\n",
       "      <th>rand</th>\n",
       "      <th>10max</th>\n",
       "      <th>raw_kmeans</th>\n",
       "      <th>pca_kmeans</th>\n",
       "      <th>ica_kmeans</th>\n",
       "      <th>rand_kmeans</th>\n",
       "      <th>10max_kmeans</th>\n",
       "      <th>raw_maxexp</th>\n",
       "      <th>pca_maxexp</th>\n",
       "      <th>ica_maxexp</th>\n",
       "      <th>rand_maxexp</th>\n",
       "      <th>10max_maxexp</th>\n",
       "    </tr>\n",
       "  </thead>\n",
       "  <tbody>\n",
       "    <tr>\n",
       "      <th>0</th>\n",
       "      <td>0.965517</td>\n",
       "      <td>0.965517</td>\n",
       "      <td>0.931034</td>\n",
       "      <td>0.793103</td>\n",
       "      <td>0.827586</td>\n",
       "      <td>0.965517</td>\n",
       "      <td>0.931034</td>\n",
       "      <td>0.896552</td>\n",
       "      <td>0.724138</td>\n",
       "      <td>0.827586</td>\n",
       "      <td>0.965517</td>\n",
       "      <td>0.896552</td>\n",
       "      <td>0.896552</td>\n",
       "      <td>0.793103</td>\n",
       "      <td>0.827586</td>\n",
       "    </tr>\n",
       "    <tr>\n",
       "      <th>1</th>\n",
       "      <td>1.000000</td>\n",
       "      <td>0.931034</td>\n",
       "      <td>0.931034</td>\n",
       "      <td>0.862069</td>\n",
       "      <td>0.827586</td>\n",
       "      <td>1.000000</td>\n",
       "      <td>0.931034</td>\n",
       "      <td>0.931034</td>\n",
       "      <td>0.862069</td>\n",
       "      <td>0.862069</td>\n",
       "      <td>0.965517</td>\n",
       "      <td>0.931034</td>\n",
       "      <td>0.931034</td>\n",
       "      <td>0.896552</td>\n",
       "      <td>0.827586</td>\n",
       "    </tr>\n",
       "    <tr>\n",
       "      <th>2</th>\n",
       "      <td>0.965517</td>\n",
       "      <td>0.965517</td>\n",
       "      <td>0.965517</td>\n",
       "      <td>0.896552</td>\n",
       "      <td>0.862069</td>\n",
       "      <td>0.965517</td>\n",
       "      <td>0.965517</td>\n",
       "      <td>0.965517</td>\n",
       "      <td>0.965517</td>\n",
       "      <td>0.862069</td>\n",
       "      <td>0.965517</td>\n",
       "      <td>0.965517</td>\n",
       "      <td>0.931034</td>\n",
       "      <td>0.931034</td>\n",
       "      <td>0.862069</td>\n",
       "    </tr>\n",
       "    <tr>\n",
       "      <th>3</th>\n",
       "      <td>1.000000</td>\n",
       "      <td>1.000000</td>\n",
       "      <td>1.000000</td>\n",
       "      <td>0.896552</td>\n",
       "      <td>0.862069</td>\n",
       "      <td>1.000000</td>\n",
       "      <td>1.000000</td>\n",
       "      <td>0.965517</td>\n",
       "      <td>0.862069</td>\n",
       "      <td>0.862069</td>\n",
       "      <td>1.000000</td>\n",
       "      <td>1.000000</td>\n",
       "      <td>1.000000</td>\n",
       "      <td>0.965517</td>\n",
       "      <td>0.862069</td>\n",
       "    </tr>\n",
       "    <tr>\n",
       "      <th>4</th>\n",
       "      <td>0.964286</td>\n",
       "      <td>0.964286</td>\n",
       "      <td>0.964286</td>\n",
       "      <td>0.857143</td>\n",
       "      <td>0.857143</td>\n",
       "      <td>0.964286</td>\n",
       "      <td>0.964286</td>\n",
       "      <td>0.928571</td>\n",
       "      <td>0.821429</td>\n",
       "      <td>0.857143</td>\n",
       "      <td>0.964286</td>\n",
       "      <td>0.892857</td>\n",
       "      <td>0.857143</td>\n",
       "      <td>0.892857</td>\n",
       "      <td>0.857143</td>\n",
       "    </tr>\n",
       "    <tr>\n",
       "      <th>5</th>\n",
       "      <td>0.928571</td>\n",
       "      <td>1.000000</td>\n",
       "      <td>0.928571</td>\n",
       "      <td>0.785714</td>\n",
       "      <td>0.785714</td>\n",
       "      <td>1.000000</td>\n",
       "      <td>1.000000</td>\n",
       "      <td>0.964286</td>\n",
       "      <td>0.857143</td>\n",
       "      <td>0.750000</td>\n",
       "      <td>1.000000</td>\n",
       "      <td>1.000000</td>\n",
       "      <td>0.964286</td>\n",
       "      <td>0.892857</td>\n",
       "      <td>0.821429</td>\n",
       "    </tr>\n",
       "    <tr>\n",
       "      <th>6</th>\n",
       "      <td>0.923077</td>\n",
       "      <td>0.961538</td>\n",
       "      <td>0.961538</td>\n",
       "      <td>0.961538</td>\n",
       "      <td>0.846154</td>\n",
       "      <td>0.923077</td>\n",
       "      <td>0.961538</td>\n",
       "      <td>0.961538</td>\n",
       "      <td>0.961538</td>\n",
       "      <td>0.807692</td>\n",
       "      <td>0.923077</td>\n",
       "      <td>0.961538</td>\n",
       "      <td>0.923077</td>\n",
       "      <td>0.884615</td>\n",
       "      <td>0.846154</td>\n",
       "    </tr>\n",
       "    <tr>\n",
       "      <th>7</th>\n",
       "      <td>0.923077</td>\n",
       "      <td>0.961538</td>\n",
       "      <td>0.961538</td>\n",
       "      <td>0.884615</td>\n",
       "      <td>0.846154</td>\n",
       "      <td>0.923077</td>\n",
       "      <td>0.961538</td>\n",
       "      <td>0.961538</td>\n",
       "      <td>0.884615</td>\n",
       "      <td>0.846154</td>\n",
       "      <td>0.923077</td>\n",
       "      <td>0.961538</td>\n",
       "      <td>0.961538</td>\n",
       "      <td>0.846154</td>\n",
       "      <td>0.846154</td>\n",
       "    </tr>\n",
       "    <tr>\n",
       "      <th>8</th>\n",
       "      <td>0.960000</td>\n",
       "      <td>0.960000</td>\n",
       "      <td>0.960000</td>\n",
       "      <td>0.960000</td>\n",
       "      <td>0.880000</td>\n",
       "      <td>0.960000</td>\n",
       "      <td>0.960000</td>\n",
       "      <td>0.960000</td>\n",
       "      <td>0.960000</td>\n",
       "      <td>0.880000</td>\n",
       "      <td>0.960000</td>\n",
       "      <td>0.960000</td>\n",
       "      <td>0.960000</td>\n",
       "      <td>0.920000</td>\n",
       "      <td>0.880000</td>\n",
       "    </tr>\n",
       "    <tr>\n",
       "      <th>9</th>\n",
       "      <td>0.960000</td>\n",
       "      <td>1.000000</td>\n",
       "      <td>1.000000</td>\n",
       "      <td>0.960000</td>\n",
       "      <td>0.880000</td>\n",
       "      <td>0.960000</td>\n",
       "      <td>1.000000</td>\n",
       "      <td>0.960000</td>\n",
       "      <td>0.920000</td>\n",
       "      <td>0.880000</td>\n",
       "      <td>0.960000</td>\n",
       "      <td>1.000000</td>\n",
       "      <td>0.960000</td>\n",
       "      <td>0.920000</td>\n",
       "      <td>0.880000</td>\n",
       "    </tr>\n",
       "  </tbody>\n",
       "</table>\n",
       "</div>"
      ],
      "text/plain": [
       "        raw       pca       ica      rand     10max  raw_kmeans  pca_kmeans  \\\n",
       "0  0.965517  0.965517  0.931034  0.793103  0.827586    0.965517    0.931034   \n",
       "1  1.000000  0.931034  0.931034  0.862069  0.827586    1.000000    0.931034   \n",
       "2  0.965517  0.965517  0.965517  0.896552  0.862069    0.965517    0.965517   \n",
       "3  1.000000  1.000000  1.000000  0.896552  0.862069    1.000000    1.000000   \n",
       "4  0.964286  0.964286  0.964286  0.857143  0.857143    0.964286    0.964286   \n",
       "5  0.928571  1.000000  0.928571  0.785714  0.785714    1.000000    1.000000   \n",
       "6  0.923077  0.961538  0.961538  0.961538  0.846154    0.923077    0.961538   \n",
       "7  0.923077  0.961538  0.961538  0.884615  0.846154    0.923077    0.961538   \n",
       "8  0.960000  0.960000  0.960000  0.960000  0.880000    0.960000    0.960000   \n",
       "9  0.960000  1.000000  1.000000  0.960000  0.880000    0.960000    1.000000   \n",
       "\n",
       "   ica_kmeans  rand_kmeans  10max_kmeans  raw_maxexp  pca_maxexp  ica_maxexp  \\\n",
       "0    0.896552     0.724138      0.827586    0.965517    0.896552    0.896552   \n",
       "1    0.931034     0.862069      0.862069    0.965517    0.931034    0.931034   \n",
       "2    0.965517     0.965517      0.862069    0.965517    0.965517    0.931034   \n",
       "3    0.965517     0.862069      0.862069    1.000000    1.000000    1.000000   \n",
       "4    0.928571     0.821429      0.857143    0.964286    0.892857    0.857143   \n",
       "5    0.964286     0.857143      0.750000    1.000000    1.000000    0.964286   \n",
       "6    0.961538     0.961538      0.807692    0.923077    0.961538    0.923077   \n",
       "7    0.961538     0.884615      0.846154    0.923077    0.961538    0.961538   \n",
       "8    0.960000     0.960000      0.880000    0.960000    0.960000    0.960000   \n",
       "9    0.960000     0.920000      0.880000    0.960000    1.000000    0.960000   \n",
       "\n",
       "   rand_maxexp  10max_maxexp  \n",
       "0     0.793103      0.827586  \n",
       "1     0.896552      0.827586  \n",
       "2     0.931034      0.862069  \n",
       "3     0.965517      0.862069  \n",
       "4     0.892857      0.857143  \n",
       "5     0.892857      0.821429  \n",
       "6     0.884615      0.846154  \n",
       "7     0.846154      0.846154  \n",
       "8     0.920000      0.880000  \n",
       "9     0.920000      0.880000  "
      ]
     },
     "execution_count": 141,
     "metadata": {},
     "output_type": "execute_result"
    }
   ],
   "source": [
    "import pandas as pd\n",
    "df = pd.DataFrame([ cv_score['cv'] for cv_score in cv_scores]).T\n",
    "orig_cols = ['raw', 'pca', 'ica', 'rand', '10max' ]\n",
    "kmeans_cols = [ col + '_kmeans' for col in orig_cols ]\n",
    "maxexp_cols = [ col + '_maxexp' for col in orig_cols ]\n",
    "cols = orig_cols + kmeans_cols + maxexp_cols\n",
    "print(cols)\n",
    "df.columns = cols\n",
    "df"
   ]
  },
  {
   "cell_type": "code",
   "execution_count": 142,
   "metadata": {
    "collapsed": false
   },
   "outputs": [
    {
     "data": {
      "image/png": "[encoded data removed]",
      "text/plain": [
       "<matplotlib.figure.Figure at 0x7fdf57e90550>"
      ]
     },
     "metadata": {},
     "output_type": "display_data"
    }
   ],
   "source": [
    "import seaborn as sb\n",
    "import matplotlib.pyplot as plt\n",
    "from pylab import savefig\n",
    "\n",
    "fig = plt.figure(figsize=(11,11))\n",
    "\n",
    "ax = sb.violinplot(df, orient='h',width=1.2)\n",
    "\n",
    "fig.savefig('derm_nn.png', dpi=300)"
   ]
  },
  {
   "cell_type": "code",
   "execution_count": 163,
   "metadata": {
    "collapsed": false
   },
   "outputs": [
    {
     "data": {
      "image/png": "[encoded data removed]",
      "text/plain": [
       "<matplotlib.figure.Figure at 0x7fdf4f50f550>"
      ]
     },
     "metadata": {},
     "output_type": "display_data"
    },
    {
     "data": {
      "image/png": "[encoded data removed]",
      "text/plain": [
       "<matplotlib.figure.Figure at 0x7fdf54188190>"
      ]
     },
     "metadata": {},
     "output_type": "display_data"
    },
    {
     "data": {
      "image/png": "[encoded data removed]",
      "text/plain": [
       "<matplotlib.figure.Figure at 0x7fdf4f057c90>"
      ]
     },
     "metadata": {},
     "output_type": "display_data"
    },
    {
     "data": {
      "image/png": "[encoded data removed]",
      "text/plain": [
       "<matplotlib.figure.Figure at 0x7fdf5417f590>"
      ]
     },
     "metadata": {},
     "output_type": "display_data"
    },
    {
     "data": {
      "image/png": "[encoded data removed]",
      "text/plain": [
       "<matplotlib.figure.Figure at 0x7fdf54a20790>"
      ]
     },
     "metadata": {},
     "output_type": "display_data"
    },
    {
     "data": {
      "image/png": "[encoded data removed]",
      "text/plain": [
       "<matplotlib.figure.Figure at 0x7fdf54955590>"
      ]
     },
     "metadata": {},
     "output_type": "display_data"
    },
    {
     "data": {
      "image/png": "[encoded data removed]",
      "text/plain": [
       "<matplotlib.figure.Figure at 0x7fdf549ffc10>"
      ]
     },
     "metadata": {},
     "output_type": "display_data"
    },
    {
     "data": {
      "image/png": "[encoded data removed]",
      "text/plain": [
       "<matplotlib.figure.Figure at 0x7fdf54bbc810>"
      ]
     },
     "metadata": {},
     "output_type": "display_data"
    },
    {
     "data": {
      "image/png": "[encoded data removed]",
      "text/plain": [
       "<matplotlib.figure.Figure at 0x7fdf54913fd0>"
      ]
     },
     "metadata": {},
     "output_type": "display_data"
    },
    {
     "data": {
      "image/png": "[encoded data removed]",
      "text/plain": [
       "<matplotlib.figure.Figure at 0x7fdf5496a390>"
      ]
     },
     "metadata": {},
     "output_type": "display_data"
    }
   ],
   "source": [
    "def make_cluster_plot( Y, cluster):\n",
    "    fig = plt.figure(figsize=(11,11))\n",
    "    df = pandas.DataFrame(np.stack((Y.T, cluster.T))).T\n",
    "    df.columns = ['class','cluster']\n",
    "    sb.countplot(y='cluster', data=df, hue='class', hue_order=range(1,7))\n",
    "    return fig\n",
    "\n",
    "def run_cluster_plot_ar(Y, cluster_ar, base_name='base'):\n",
    "    for i, cluster in enumerate(cluster_ar):\n",
    "        fig = make_cluster_plot(Y, cluster)\n",
    "        fig.savefig(base_name + \"_\" +str(i) + '.png', dpi=300)\n",
    "\n",
    "\n",
    "\n",
    "run_cluster_plot_ar( train_Y, \n",
    "                    [ kmeans['prediction'].T for kmeans in kmeans_ar ],\n",
    "                   base_name='derm_kmeans')\n",
    "\n",
    "\n",
    "run_cluster_plot_ar( train_Y, \n",
    "                    [ kmeans['prediction'].T for kmeans in maxlikelyhood_ar ],\n",
    "                   base_name='derm_maxlike')"
   ]
  },
  {
   "cell_type": "code",
   "execution_count": null,
   "metadata": {
    "collapsed": true
   },
   "outputs": [],
   "source": []
  }
 ],
 "metadata": {
  "kernelspec": {
   "display_name": "Python 2",
   "language": "python",
   "name": "python2"
  },
  "language_info": {
   "codemirror_mode": {
    "name": "ipython",
    "version": 2
   },
   "file_extension": ".py",
   "mimetype": "text/x-python",
   "name": "python",
   "nbconvert_exporter": "python",
   "pygments_lexer": "ipython2",
   "version": "2.7.10"
  }
 },
 "nbformat": 4,
 "nbformat_minor": 0
}
